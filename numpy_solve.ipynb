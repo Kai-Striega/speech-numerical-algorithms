{
 "cells": [
  {
   "cell_type": "markdown",
   "id": "14b28dde84c2cdf6",
   "metadata": {
    "collapsed": false,
    "editable": true,
    "jupyter": {
     "outputs_hidden": false
    },
    "slideshow": {
     "slide_type": "slide"
    },
    "tags": []
   },
   "source": [
    "# Exploring ``np.linalg.solve``\n",
    "\n",
    "Kai Striega"
   ]
  },
  {
   "cell_type": "code",
   "execution_count": 1,
   "id": "f581cc9c675009de",
   "metadata": {
    "collapsed": false,
    "editable": true,
    "is_executing": true,
    "jupyter": {
     "outputs_hidden": false
    },
    "scrolled": true,
    "slideshow": {
     "slide_type": "slide"
    },
    "tags": []
   },
   "outputs": [
    {
     "data": {
      "text/plain": [
       "('1.26.4', '1.13.0')"
      ]
     },
     "execution_count": 1,
     "metadata": {},
     "output_type": "execute_result"
    }
   ],
   "source": [
    "import numpy as np\n",
    "import scipy as sp\n",
    "from numpy.testing import assert_allclose\n",
    "np.__version__, sp.__version__"
   ]
  },
  {
   "cell_type": "markdown",
   "id": "68de35ef-d14d-414e-b444-1b27377e5e9c",
   "metadata": {
    "collapsed": false,
    "editable": true,
    "jupyter": {
     "outputs_hidden": false
    },
    "slideshow": {
     "slide_type": "slide"
    },
    "tags": []
   },
   "source": [
    "# Problem Statement"
   ]
  },
  {
   "cell_type": "markdown",
   "id": "0ab75825-1097-46a9-b810-4bf3205bf66f",
   "metadata": {
    "editable": true,
    "slideshow": {
     "slide_type": "subslide"
    },
    "tags": []
   },
   "source": [
    "Consider the linear system of equations:\n",
    "\n",
    "$$ Ax = b $$\n",
    "\n",
    "Where: \n",
    "\n",
    "* $A$ is a known $n\\text{ x }n$ matrix\n",
    "* $x$ is an unknown $n\\text{ x }1$ matrix\n",
    "* $b$ is a known $n\\text{ x }1$ matrix\n",
    "\n",
    "We also assume that $A$ is __invertible__, that is, there exists another $n\\text{ x }n$ matrix, $B$, such that $BA = I_n$.\n",
    "\n",
    "We want to be able to solve this system for $x$."
   ]
  },
  {
   "cell_type": "markdown",
   "id": "caa061d6-d1e3-4ae8-96c0-7c364b071b8b",
   "metadata": {
    "editable": true,
    "slideshow": {
     "slide_type": "subslide"
    },
    "tags": []
   },
   "source": [
    "* We've all solved these kind of problems by hand\n",
    "* In applications the problem size is usually huge\n",
    "* In this case we need to develop algorithms to let a computer do the job\n",
    "* Well, we don't, because they have already been written"
   ]
  },
  {
   "cell_type": "code",
   "execution_count": 2,
   "id": "701e23e9-37a2-4485-bfff-4c210b60ee8a",
   "metadata": {
    "editable": true,
    "slideshow": {
     "slide_type": "subslide"
    },
    "tags": []
   },
   "outputs": [
    {
     "data": {
      "text/plain": [
       "array([  8., -11.,  -3.])"
      ]
     },
     "execution_count": 2,
     "metadata": {},
     "output_type": "execute_result"
    }
   ],
   "source": [
    "A = np.array([[2, 1, -1],\n",
    "              [-3, -1, 2],\n",
    "              [-2, 1, 2]])\n",
    "\n",
    "b = np.array([8, -11, -3])\n",
    "x = np.linalg.solve(A, b)\n",
    "\n",
    "A @ x"
   ]
  },
  {
   "cell_type": "code",
   "execution_count": 3,
   "id": "abbbe649-b49b-41f3-9510-1242da5cfd03",
   "metadata": {
    "editable": true,
    "slideshow": {
     "slide_type": "subslide"
    },
    "tags": []
   },
   "outputs": [],
   "source": [
    "rng = np.random.default_rng(42)\n",
    "n = 10_000\n",
    "A = rng.random((n, n))\n",
    "b = rng.random(n)\n",
    "x = np.linalg.solve(A, b)\n",
    "assert_allclose(A @ x, b)"
   ]
  },
  {
   "cell_type": "markdown",
   "id": "83d123da-5fae-4266-984c-754ccff60ba6",
   "metadata": {
    "editable": true,
    "slideshow": {
     "slide_type": "subslide"
    },
    "tags": []
   },
   "source": [
    "## Great!\n",
    "\n",
    "* We have reduced a whole subfield of mathematics into a single line of NumPy.\n",
    "* But I like to __understand__ how a method works, not just use it\n",
    "* This talk will look at __how__ to solve this type of equation"
   ]
  },
  {
   "cell_type": "markdown",
   "id": "704b5a1d-d0cb-49f3-816a-e7a7a178e141",
   "metadata": {
    "editable": true,
    "slideshow": {
     "slide_type": "subslide"
    },
    "tags": []
   },
   "source": [
    "#  A naive method: matrix inversion"
   ]
  },
  {
   "cell_type": "markdown",
   "id": "de1a492b-df48-4287-a5c9-bb3c668d6662",
   "metadata": {
    "editable": true,
    "slideshow": {
     "slide_type": "subslide"
    },
    "tags": []
   },
   "source": [
    "* From our maths classes, we know that we can invert a matrix to solve a system of equations\n",
    "* This can be used to solve a system of equations:\n",
    "$$\n",
    "\\begin{align}\n",
    "Ax &= b \\\\\n",
    "A^{-1}Ax &= A^{-1}b \\\\\n",
    "x &= A^{-1}b \\\\\n",
    "\\end{align}\n",
    "$$"
   ]
  },
  {
   "cell_type": "code",
   "execution_count": 4,
   "id": "069b1840-b023-44eb-9bc1-2ecb44d47b68",
   "metadata": {
    "editable": true,
    "slideshow": {
     "slide_type": "subslide"
    },
    "tags": []
   },
   "outputs": [],
   "source": [
    "x = np.linalg.inv(A) @ b\n",
    "assert_allclose(A @ x, b)"
   ]
  },
  {
   "cell_type": "code",
   "execution_count": 5,
   "id": "e54bec33-90f8-4b88-8f1f-b243c1a00929",
   "metadata": {
    "editable": true,
    "slideshow": {
     "slide_type": "fragment"
    },
    "tags": []
   },
   "outputs": [
    {
     "name": "stdout",
     "output_type": "stream",
     "text": [
      "6.87 s ± 109 ms per loop (mean ± std. dev. of 7 runs, 1 loop each)\n"
     ]
    }
   ],
   "source": [
    "%timeit np.linalg.inv(A) @ b"
   ]
  },
  {
   "cell_type": "code",
   "execution_count": 6,
   "id": "529c17fb-a068-468c-acad-85800f9d802b",
   "metadata": {
    "editable": true,
    "slideshow": {
     "slide_type": "fragment"
    },
    "tags": []
   },
   "outputs": [
    {
     "name": "stdout",
     "output_type": "stream",
     "text": [
      "2.24 s ± 71.2 ms per loop (mean ± std. dev. of 7 runs, 1 loop each)\n"
     ]
    }
   ],
   "source": [
    "%timeit np.linalg.solve(A, b)"
   ]
  },
  {
   "cell_type": "markdown",
   "id": "30fa9b85-ae65-4ad7-aada-6881299b1629",
   "metadata": {
    "editable": true,
    "slideshow": {
     "slide_type": "slide"
    },
    "tags": []
   },
   "source": [
    "# How does NumPy do it?"
   ]
  },
  {
   "cell_type": "markdown",
   "id": "756fe353-8164-48ed-8212-94a0ea564d84",
   "metadata": {
    "editable": true,
    "slideshow": {
     "slide_type": "subslide"
    },
    "tags": []
   },
   "source": [
    "* NumPy defines the ``solve`` function in [umath_linalg.cpp](https://github.com/numpy/numpy/blob/main/numpy/linalg/umath_linalg.cpp#L1728-L1765)\n",
    "* NumPy calls the [LAPACK](https://en.wikipedia.org/wiki/LAPACK) routine ``_dgesv``\n",
    "* The reference implementation of ``_dgesv`` is available on [Netlib](https://netlib.org/lapack/explore-html-3.6.1/d7/d3b/group__double_g_esolve_ga5ee879032a8365897c3ba91e3dc8d512.html)"
   ]
  },
  {
   "cell_type": "markdown",
   "id": "08100a9f-b66b-46b6-bd00-228cd0070222",
   "metadata": {
    "editable": true,
    "slideshow": {
     "slide_type": "slide"
    },
    "tags": []
   },
   "source": [
    "# LU Factorization"
   ]
  },
  {
   "cell_type": "markdown",
   "id": "3af0dbb6-8c7e-4fdb-ab17-0974131d46e6",
   "metadata": {
    "editable": true,
    "slideshow": {
     "slide_type": "subslide"
    },
    "tags": []
   },
   "source": [
    "* Basic idea: Convert $A$ to an upper triangular matrix by multiplying by finitely many lower triangular matrices\n",
    "\n",
    "$$ E_{n-1} \\dots  E_2 E_1 A = U $$\n",
    "\n",
    "* With some rearranging, this leads to the LU factorisation:\n",
    "  \n",
    "$$ \n",
    "\\begin{align}\n",
    "A &= E_1^{-1}E_2^{-1} \\ldots E_{n-1}^{-1}U \\\\\n",
    "&= L_1 L_2 \\ldots L_{n-1} U \\\\\n",
    "&= LU\n",
    "\\end{align}\n",
    "$$"
   ]
  },
  {
   "cell_type": "markdown",
   "id": "6b505fa2-88a2-47ba-b05c-4226745e61a4",
   "metadata": {
    "editable": true,
    "slideshow": {
     "slide_type": "subslide"
    },
    "tags": []
   },
   "source": [
    "## Solving linear systems using LU Factorization"
   ]
  },
  {
   "cell_type": "markdown",
   "id": "e0bbb2e7-2e55-444f-aa29-61748d031485",
   "metadata": {
    "editable": true,
    "slideshow": {
     "slide_type": "subslide"
    },
    "tags": []
   },
   "source": [
    "* Consider the linear system $$Ax = b$$ with LU factorisation $$ A = LU $$. \n",
    "* Now we have $LUx = b$. Set $y = Ux$ Then the solution for $Ax=b$ can be found in two steps:\n",
    "    1. Solve the system $Ly=b$ for $y$ by _forward substitution_\n",
    "    2. Solve the system $Ux=y$ for $x$ by _back substitution_"
   ]
  },
  {
   "cell_type": "markdown",
   "id": "87fb2b9f-bfaf-41e6-b4ed-0b782690b0f5",
   "metadata": {
    "editable": true,
    "slideshow": {
     "slide_type": "subslide"
    },
    "tags": []
   },
   "source": [
    "### Forward substitution"
   ]
  },
  {
   "cell_type": "markdown",
   "id": "634837de-6c3f-405e-842a-2216012495f8",
   "metadata": {
    "editable": true,
    "slideshow": {
     "slide_type": "subslide"
    },
    "tags": []
   },
   "source": [
    "Consider the system $Ly=b$:\n",
    "\n",
    "$$ Ly = \n",
    "\\begin{bmatrix}\n",
    "l_{1, 1} & 0 & \\ldots & 0 \\\\ \n",
    "l_{2, 1} & l_{2, 2} & & \\vdots\\\\\n",
    "\\vdots & & \\ddots & 0 \\\\\n",
    "l_{n, 1} & l_{n, 2} & \\ldots & l_{n,n}\n",
    "\\end{bmatrix}\n",
    "\\begin{bmatrix} y_1 \\\\ y_2 \\\\ \\vdots \\\\ y_n \\end{bmatrix}\n",
    "= \n",
    "\\begin{bmatrix} b_1 \\\\ b_2 \\\\ \\vdots \\\\ b_n \\end{bmatrix}\n",
    "$$"
   ]
  },
  {
   "cell_type": "markdown",
   "id": "74dcdce5-5723-48b1-88b9-f77583ff7f3f",
   "metadata": {
    "editable": true,
    "slideshow": {
     "slide_type": "subslide"
    },
    "tags": []
   },
   "source": [
    "By the first equation we get $$y_1 = \\frac{b_1}{l_{1,1}}$$ \n",
    "\n",
    "Then, by induction, it can be shown that the solution is given by forward substitution:\n",
    "\n",
    "$$ y_i = \\frac{b_i - \\sum_{k=1}^{i-1} l_{i,k}y_k}{l_{i,i}} $$"
   ]
  },
  {
   "cell_type": "markdown",
   "id": "c79a8eab-4bc3-4881-8d92-89bf0300595b",
   "metadata": {
    "editable": true,
    "slideshow": {
     "slide_type": "subslide"
    },
    "tags": []
   },
   "source": [
    "### Back Substituion"
   ]
  },
  {
   "cell_type": "markdown",
   "id": "298acd26-f486-4746-b605-acab63a1e32b",
   "metadata": {
    "editable": true,
    "slideshow": {
     "slide_type": "subslide"
    },
    "tags": []
   },
   "source": [
    "* We now know $y$ we need to solve the system $Ux=y$ for $x$ by back substitution:\n",
    "\n",
    "$$ U = \n",
    "\\begin{bmatrix}\n",
    "u_{1, 1} & u_{1,2} & \\ldots & u_{1,n} \\\\ \n",
    "0 & l_{2, 2} & \\ldots & u_{2,n}\\\\\n",
    "\\vdots & & \\ddots & \\vdots \\\\\n",
    "0 & \\ldots & 0 & u_{n,n}\n",
    "\\end{bmatrix}\n",
    "\\begin{bmatrix} x_1 \\\\ x_2 \\\\ \\vdots \\\\ x_n \\end{bmatrix}\n",
    "= \n",
    "\\begin{bmatrix} y_1 \\\\ y_2 \\\\ \\vdots \\\\ y_n \\end{bmatrix}\n",
    "$$"
   ]
  },
  {
   "cell_type": "markdown",
   "id": "4574dbd9-ff66-4c52-b012-e59b31f0f01d",
   "metadata": {
    "editable": true,
    "slideshow": {
     "slide_type": "subslide"
    },
    "tags": []
   },
   "source": [
    "* By the last equation we obtain: $$ x_n = \\frac{y_n}{u_{n,n}} $$ \n",
    "* By induction we can solve the solution $x$ by back substiution:\n",
    "\n",
    "$$ x_i = \\frac{y_i - \\sum_{k=i + 1}^{n} u_{i,k}x_k}{u_{i,i}} $$"
   ]
  },
  {
   "cell_type": "markdown",
   "id": "9dba0a68-b782-44d6-9e14-e22c7e00402f",
   "metadata": {
    "editable": true,
    "slideshow": {
     "slide_type": "subslide"
    },
    "tags": []
   },
   "source": [
    "#  All that in code"
   ]
  },
  {
   "cell_type": "code",
   "execution_count": 7,
   "id": "02e71cd8-2e74-4de4-952c-e0c6b5883de4",
   "metadata": {
    "editable": true,
    "slideshow": {
     "slide_type": "subslide"
    },
    "tags": []
   },
   "outputs": [],
   "source": [
    "def lu(A):\n",
    "    \n",
    "    #Get the number of rows\n",
    "    n = A.shape[0]\n",
    "    \n",
    "    U = A.copy().astype(np.float64)\n",
    "    L = np.eye(n, dtype=np.float64)\n",
    "\n",
    "    for i in range(n):\n",
    "            \n",
    "        # Eliminate entries below i with row operations \n",
    "        # on U and reverse the row operations to \n",
    "        # manipulate L\n",
    "        factor = U[i+1:, i] / U[i, i]\n",
    "        L[i+1:, i] = factor\n",
    "        U[i+1:] -= factor[:, np.newaxis] * U[i]\n",
    "        \n",
    "    return L, U"
   ]
  },
  {
   "cell_type": "code",
   "execution_count": 8,
   "id": "00e9ffa3-8073-47b5-a7c9-c81e2286a12c",
   "metadata": {
    "editable": true,
    "slideshow": {
     "slide_type": "subslide"
    },
    "tags": []
   },
   "outputs": [],
   "source": [
    "A = np.array([[2, 1, -1],\n",
    "              [-3, -1, 2],\n",
    "              [-2, 1, 2]])\n",
    "b = np.array([8, -11, -3])\n",
    "\n",
    "L, U = lu(A)"
   ]
  },
  {
   "cell_type": "code",
   "execution_count": 9,
   "id": "a89281b3-5e91-4af9-ba17-b9af16f97684",
   "metadata": {
    "editable": true,
    "slideshow": {
     "slide_type": "subslide"
    },
    "tags": []
   },
   "outputs": [
    {
     "data": {
      "text/plain": [
       "array([[ 1. ,  0. ,  0. ],\n",
       "       [-1.5,  1. ,  0. ],\n",
       "       [-1. ,  4. ,  1. ]])"
      ]
     },
     "execution_count": 9,
     "metadata": {},
     "output_type": "execute_result"
    }
   ],
   "source": [
    "L"
   ]
  },
  {
   "cell_type": "code",
   "execution_count": 10,
   "id": "502fde1a-6806-462d-aa41-89651ff5639c",
   "metadata": {
    "editable": true,
    "scrolled": true,
    "slideshow": {
     "slide_type": "fragment"
    },
    "tags": []
   },
   "outputs": [
    {
     "data": {
      "text/plain": [
       "array([[ 2. ,  1. , -1. ],\n",
       "       [ 0. ,  0.5,  0.5],\n",
       "       [ 0. ,  0. , -1. ]])"
      ]
     },
     "execution_count": 10,
     "metadata": {},
     "output_type": "execute_result"
    }
   ],
   "source": [
    "U"
   ]
  },
  {
   "cell_type": "code",
   "execution_count": 11,
   "id": "3fd55a44-cb03-484e-8d69-ddf90b94be89",
   "metadata": {
    "editable": true,
    "slideshow": {
     "slide_type": "fragment"
    },
    "tags": []
   },
   "outputs": [
    {
     "data": {
      "text/plain": [
       "array([[ 2.,  1., -1.],\n",
       "       [-3., -1.,  2.],\n",
       "       [-2.,  1.,  2.]])"
      ]
     },
     "execution_count": 11,
     "metadata": {},
     "output_type": "execute_result"
    }
   ],
   "source": [
    "L @ U"
   ]
  },
  {
   "cell_type": "code",
   "execution_count": 12,
   "id": "d3dae3cc-f158-4a9d-b128-fd8b50880670",
   "metadata": {
    "editable": true,
    "slideshow": {
     "slide_type": "fragment"
    },
    "tags": []
   },
   "outputs": [],
   "source": [
    "assert_allclose(L @ U, A)"
   ]
  },
  {
   "cell_type": "code",
   "execution_count": 13,
   "id": "81b89aa2-c011-4ffc-a9e8-60643f731368",
   "metadata": {
    "editable": true,
    "slideshow": {
     "slide_type": "subslide"
    },
    "tags": []
   },
   "outputs": [],
   "source": [
    "def forward_substitution(L, b):\n",
    "    \n",
    "    # Get number of rows\n",
    "    n = L.shape[0]\n",
    "    \n",
    "    # Allocating space for the solution vector\n",
    "    y = np.zeros_like(b, dtype=np.double);\n",
    "    \n",
    "    # Here we perform the forward-substitution.  \n",
    "    # Initializing  with the first row.\n",
    "    y[0] = b[0] / L[0, 0]\n",
    "    \n",
    "    # Looping over rows in reverse (from the bottom  up),\n",
    "    # starting with the second to last row, because  the \n",
    "    # last row solve was completed in the last step.\n",
    "    for i in range(1, n):\n",
    "        y[i] = (b[i] - np.dot(L[i,:i], y[:i])) / L[i,i]\n",
    "        \n",
    "    return y"
   ]
  },
  {
   "cell_type": "code",
   "execution_count": 14,
   "id": "f9dd3738-1ea7-4c67-aae4-653f96d3033e",
   "metadata": {
    "editable": true,
    "slideshow": {
     "slide_type": "fragment"
    },
    "tags": []
   },
   "outputs": [
    {
     "data": {
      "text/plain": [
       "array([8., 1., 1.])"
      ]
     },
     "execution_count": 14,
     "metadata": {},
     "output_type": "execute_result"
    }
   ],
   "source": [
    "y = forward_substitution(L, b)\n",
    "y"
   ]
  },
  {
   "cell_type": "code",
   "execution_count": 15,
   "id": "de243154-f3ec-4a3f-b656-db3d69b1111e",
   "metadata": {
    "editable": true,
    "slideshow": {
     "slide_type": "subslide"
    },
    "tags": []
   },
   "outputs": [],
   "source": [
    "def back_substitution(U, y):\n",
    "    \n",
    "    # Number of rows\n",
    "    n = U.shape[0]\n",
    "    \n",
    "    # Allocating space for the solution vector\n",
    "    x = np.zeros_like(y, dtype=np.double);\n",
    "\n",
    "    # Here we perform the back-substitution.  \n",
    "    # Initializing with the last row.\n",
    "    x[-1] = y[-1] / U[-1, -1]\n",
    "    \n",
    "    # Looping over rows in reverse (from the bottom up), \n",
    "    # starting with the second to last row, because the \n",
    "    # last row solve was completed in the last step.\n",
    "    for i in range(n-2, -1, -1):\n",
    "        x[i] = (y[i] - np.dot(U[i,i:], x[i:])) / U[i,i]\n",
    "        \n",
    "    return x"
   ]
  },
  {
   "cell_type": "code",
   "execution_count": 16,
   "id": "5f57def3-7e19-4e88-b2b7-a9d1b9f339b6",
   "metadata": {
    "editable": true,
    "slideshow": {
     "slide_type": "fragment"
    },
    "tags": []
   },
   "outputs": [
    {
     "data": {
      "text/plain": [
       "array([ 2.,  3., -1.])"
      ]
     },
     "execution_count": 16,
     "metadata": {},
     "output_type": "execute_result"
    }
   ],
   "source": [
    "x = back_substitution(U, y)\n",
    "x"
   ]
  },
  {
   "cell_type": "code",
   "execution_count": 17,
   "id": "81bae7ed-ab4a-435d-ade0-b5d116b6bf34",
   "metadata": {
    "editable": true,
    "slideshow": {
     "slide_type": "fragment"
    },
    "tags": []
   },
   "outputs": [],
   "source": [
    "assert_allclose(A @ x, b)"
   ]
  },
  {
   "cell_type": "markdown",
   "id": "45b18db0-3453-46d6-9c6e-43b1787c4618",
   "metadata": {
    "editable": true,
    "slideshow": {
     "slide_type": "slide"
    },
    "tags": []
   },
   "source": [
    "# Problems with LU factorisation"
   ]
  },
  {
   "cell_type": "markdown",
   "id": "f8f32fba-9e0e-40e8-9f31-867e22d6c285",
   "metadata": {
    "editable": true,
    "slideshow": {
     "slide_type": "subslide"
    },
    "tags": []
   },
   "source": [
    "## Problem 1: Backward instability"
   ]
  },
  {
   "cell_type": "markdown",
   "id": "430094ae-ba7b-4a34-b836-4e557e2e2631",
   "metadata": {
    "editable": true,
    "slideshow": {
     "slide_type": "subslide"
    },
    "tags": []
   },
   "source": [
    "Consider the linear system $Ax=b$, where:\n",
    "\n",
    "$$\n",
    "A = \\begin{bmatrix} 1 & 1 & 1 \\\\ 2 & 2 + \\varepsilon & 5 \\\\ 4 & 6 & 8 \\\\ \\end{bmatrix}, b = \\begin{bmatrix} 1 \\\\ 0 \\\\ 0 \\end{bmatrix}\n",
    "$$"
   ]
  },
  {
   "cell_type": "markdown",
   "id": "95279c30-bc79-4af1-adfa-4cf4dda02a35",
   "metadata": {
    "editable": true,
    "slideshow": {
     "slide_type": "subslide"
    },
    "tags": []
   },
   "source": [
    "Then \n",
    "\n",
    "$$\n",
    "E_1 A \n",
    "= \\begin{bmatrix} 1 & 0 & 0 \\\\ -2 & 1 & 0 \\\\ -4 & 0 & 0 \\\\ \\end{bmatrix} \\begin{bmatrix} 1 & 1 & 1 \\\\ 2 & 2 + \\varepsilon & 5 \\\\ 4 & 6 & 8 \\\\ \\end{bmatrix} \n",
    "= \\begin{bmatrix} 1 & 1 & 1 \\\\ 0 & \\varepsilon & 3 \\\\ 0 & 2 & 4 \\\\ \\end{bmatrix}\n",
    "$$\n",
    "\n",
    "And \n",
    "\n",
    "$$ E_2 E_1 A\n",
    "= \\begin{bmatrix} 1 & 0 & 0 \\\\ 0 & 1 & 0 \\\\ 0 & -\\frac{2}{\\varepsilon} & 1 \\\\ \\end{bmatrix} \\begin{bmatrix} 1 & 1 & 1 \\\\ 0 & \\varepsilon & 3 \\\\ 0 & 2 & 4 \\\\ \\end{bmatrix}\n",
    "= \\begin{bmatrix} 1 & 1 & 1 \\\\ 0 & \\varepsilon & 3 \\\\ 0 & 0 & 4-\\frac{6}{\\varepsilon} \\\\ \\end{bmatrix}\n",
    "$$"
   ]
  },
  {
   "cell_type": "markdown",
   "id": "795a13d2-fe6b-434d-8189-bfbe4bdd9417",
   "metadata": {
    "editable": true,
    "slideshow": {
     "slide_type": "subslide"
    },
    "tags": []
   },
   "source": [
    "Which gives:\n",
    "\n",
    "$$\n",
    "L = \\begin{bmatrix} 1 & 0 & 0 \\\\ 2 & 1 & 0 \\\\ 4 & \\frac{2}{\\varepsilon} & 1 \\end{bmatrix}, U = \\begin{bmatrix} 1 & 1 & 1 \\\\ 0 & \\varepsilon & 3 \\\\ 0 & 0 & 4-\\frac{6}{\\varepsilon} \\\\ \\end{bmatrix}\n",
    "$$"
   ]
  },
  {
   "cell_type": "markdown",
   "id": "a26370f1-a733-4467-837f-4d98121d5335",
   "metadata": {
    "editable": true,
    "slideshow": {
     "slide_type": "subslide"
    },
    "tags": []
   },
   "source": [
    "* If $\\varepsilon$ is on the order of machine accuracy, the $4$ in $4-\\frac{6}{\\varepsilon}$ becomes insignifcant (because $\\frac{6}{\\varepsilon}$ is very large)\n",
    "* This means that during computation we actually use:\n",
    "\n",
    "$$ L^{\\prime} = L, U^{\\prime} = \\begin{bmatrix} 1 & 1 & 1 \\\\ 0 & \\varepsilon & 3 \\\\ 0 & 0 & -\\frac{6}{\\varepsilon} \\\\ \\end{bmatrix} $$"
   ]
  },
  {
   "cell_type": "markdown",
   "id": "863e04b1-b203-4aee-b25f-89e8a5f09efd",
   "metadata": {
    "editable": true,
    "slideshow": {
     "slide_type": "subslide"
    },
    "tags": []
   },
   "source": [
    "But now:\n",
    "\n",
    "$$ \n",
    "L^{\\prime} U^{\\prime}\n",
    "= \\begin{bmatrix} 1 & 1 & 1 \\\\ 2 & 2 + \\varepsilon & 5 \\\\ 4 & 6 & 4 \\\\ \\end{bmatrix}\n",
    "\\ne A\n",
    "$$\n",
    "\n",
    "... which is a problem"
   ]
  },
  {
   "cell_type": "markdown",
   "id": "7d0439d9-8cda-4468-a1aa-09b31fe9bb7e",
   "metadata": {
    "editable": true,
    "slideshow": {
     "slide_type": "subslide"
    },
    "tags": []
   },
   "source": [
    "Furthermore if we use $L$ and $U$ to get $x$:\n",
    "\n",
    "$$\n",
    "x = \\begin{bmatrix} \\frac{4 \\varepsilon - 7}{2 \\varepsilon - 3} \\\\ \\frac{2}{2\\varepsilon - 3} \\\\ -\\frac{2(\\varepsilon - 1)}{2 \\varepsilon - 3} \\end{bmatrix}\n",
    "\\approx \\begin{bmatrix} \\frac{7}{3} \\\\ -\\frac{2}{3} \\\\ -\\frac{2}{3} \\\\ \\end{bmatrix}\n",
    "$$\n",
    "\n",
    "While if we use $L^{\\prime}$ and $U^{\\prime}$:\n",
    "$$\n",
    "x^{\\prime}\n",
    "= \\begin{bmatrix} \\frac{11 - 2 \\varepsilon}{3} \\\\ -2 \\\\ \\frac{2\\varepsilon - 2}{3} \\end{bmatrix}\n",
    "\\approx \\begin{bmatrix} \\frac{11}{3} \\\\ -2 \\\\ -\\frac{2}{3} \\end{bmatrix}\n",
    "$$\n",
    "\n",
    "Clearly $x$ and $x^{\\prime}$ are signifficantly different even when $L^{\\prime}$ and $U^{\\prime}$ are close to $L$ and $U$"
   ]
  },
  {
   "cell_type": "markdown",
   "id": "a2ea38a5-3d51-4909-a9ad-bfa67a0c747b",
   "metadata": {
    "editable": true,
    "slideshow": {
     "slide_type": "slide"
    },
    "tags": []
   },
   "source": [
    "## Problem 2: Not all matrices have an LU factorisation"
   ]
  },
  {
   "cell_type": "markdown",
   "id": "df4587fd-43ee-4c77-950d-1db3ee5803bf",
   "metadata": {
    "editable": true,
    "slideshow": {
     "slide_type": "subslide"
    },
    "tags": []
   },
   "source": [
    "Consider the matrix:\n",
    "\n",
    "$$ A = \\begin{bmatrix} 1 & 1 & 1 \\\\ 2 & 2 & 5 \\\\ 4 & 6 & 8 \\\\ \\end{bmatrix} $$\n",
    "\n",
    "Then:\n",
    "\n",
    "$$ \n",
    "E_1 A \n",
    "= \\begin{bmatrix} 1 & 0 & 0 \\\\ -2 & 1 & 0 \\\\ -4 & 0 & 1 \\\\ \\end{bmatrix} \\begin{bmatrix} 1 & 1 & 1 \\\\ 2 & 2 & 5 \\\\ 4 & 6 & 8 \\\\ \\end{bmatrix}\n",
    "= \\begin{bmatrix} 1 & 1 & 1 \\\\ 0 & 0 & 3 \\\\ 0 & 2 & 4 \\\\ \\end{bmatrix}\n",
    "$$\n",
    "\n",
    "* The standard algorithm cannot go any further (since we would have to divide by zero)\n",
    "* This implies that $A$ does not have an LU Factorisation"
   ]
  },
  {
   "cell_type": "code",
   "execution_count": 18,
   "id": "26ec5195-60a5-47ee-b4a2-43c3a9c5409f",
   "metadata": {
    "editable": true,
    "slideshow": {
     "slide_type": "subslide"
    },
    "tags": []
   },
   "outputs": [
    {
     "name": "stderr",
     "output_type": "stream",
     "text": [
      "/tmp/ipykernel_21838/2020444748.py:14: RuntimeWarning: divide by zero encountered in divide\n",
      "  factor = U[i+1:, i] / U[i, i]\n",
      "/tmp/ipykernel_21838/2020444748.py:16: RuntimeWarning: invalid value encountered in multiply\n",
      "  U[i+1:] -= factor[:, np.newaxis] * U[i]\n"
     ]
    },
    {
     "data": {
      "text/plain": [
       "(array([[ 1.,  0.,  0.],\n",
       "        [ 2.,  1.,  0.],\n",
       "        [ 4., inf,  1.]]),\n",
       " array([[  1.,   1.,   1.],\n",
       "        [  0.,   0.,   3.],\n",
       "        [ nan,  nan, -inf]]))"
      ]
     },
     "execution_count": 18,
     "metadata": {},
     "output_type": "execute_result"
    }
   ],
   "source": [
    "A = np.array([[1, 1, 1],\n",
    "              [2, 2, 5],\n",
    "              [4, 6, 8]])\n",
    "lu(A)"
   ]
  },
  {
   "cell_type": "markdown",
   "id": "65067e20-157d-49e5-9c44-18993c625ae4",
   "metadata": {
    "editable": true,
    "slideshow": {
     "slide_type": "slide"
    },
    "tags": []
   },
   "source": [
    "## Pivoting"
   ]
  },
  {
   "cell_type": "markdown",
   "id": "55cf44f0-940f-43c3-921b-4394204377d7",
   "metadata": {
    "editable": true,
    "slideshow": {
     "slide_type": "subslide"
    },
    "tags": []
   },
   "source": [
    "* Since the order of our equations does not matter we can swap rows\n",
    "* We do this using a [permuation matrix](https://mathworld.wolfram.com/PermutationMatrix.html), $P_i$\n",
    "* Each permutation matrix allows us to swap different rows"
   ]
  },
  {
   "cell_type": "markdown",
   "id": "becaeea2-c8c6-44b7-a1da-25fb7a4f2f9b",
   "metadata": {
    "editable": true,
    "slideshow": {
     "slide_type": "subslide"
    },
    "tags": []
   },
   "source": [
    "* Let's look at coloumn 1 of $A$\n",
    "* We can see the number of largest magnitude is 4\n",
    "* Let's swap rows 1 and 3\n",
    "\n",
    "$$ P_1 A\n",
    "= \\begin{bmatrix} 0 & 0 & 1 \\\\ 0 & 1 & 0 \\\\ 1 & 0 & 0 \\\\ \\end{bmatrix} \\begin{bmatrix} 1 & 1 & 1 \\\\ 2 & 2 & 5 \\\\ 4 & 6 & 8 \\\\ \\end{bmatrix} \n",
    "= \\begin{bmatrix} 4 & 6 & 8 \\\\ 2 & 2 & 5 \\\\ 1 & 1 & 1 \\\\ \\end{bmatrix} \n",
    "$$"
   ]
  },
  {
   "cell_type": "markdown",
   "id": "36c6564e-2407-484c-854f-7b1b84b4c127",
   "metadata": {
    "editable": true,
    "slideshow": {
     "slide_type": "subslide"
    },
    "tags": []
   },
   "source": [
    "* We can now perform the first step of the algorithm\n",
    "\n",
    "$$ \n",
    "E_1 P_1 A\n",
    "= \\begin{bmatrix} 1 & 0 & 0 \\\\ -\\frac{1}{2} & 1 & 0 \\\\ -\\frac{1}{4} & 0 & 1 \\\\ \\end{bmatrix} \\begin{bmatrix} 4 & 6 & 8 \\\\ 2 & 2 & 5 \\\\ 1 & 1 & 1 \\\\ \\end{bmatrix}\n",
    "= \\begin{bmatrix} 4 & 6 & 8 \\\\ 0 & -1 & 1 \\\\ 0 & -\\frac{1}{2} & -1 \\\\ \\end{bmatrix}\n",
    "$$\n",
    "\n",
    "* We can now continue with our algorithm, pivoting as required"
   ]
  },
  {
   "cell_type": "markdown",
   "id": "ccdd8f02-7111-422a-b05d-6c3e960a2d63",
   "metadata": {
    "editable": true,
    "slideshow": {
     "slide_type": "subslide"
    },
    "tags": []
   },
   "source": [
    "* In general, back instability can be avoided by swapping rows before applying $E_k$ i.e. we perform:\n",
    "\n",
    "$$\n",
    "E_{n-1}P_{n-1} \\ldots E_2P_2E_1P_1A = U\n",
    "$$\n",
    "\n",
    "* With some rejiggling, this can be transformed to show that\n",
    "\n",
    "$$ PA = LU $$\n",
    "\n",
    "* i.e. we have some permutation matrix $P$ that, when multiplied with $A$, gives us the LU factorisation"
   ]
  },
  {
   "cell_type": "markdown",
   "id": "5baeba30-6784-4f0a-9934-6a000cd43286",
   "metadata": {
    "editable": true,
    "slideshow": {
     "slide_type": "slide"
    },
    "tags": []
   },
   "source": [
    "# Can we do better?"
   ]
  },
  {
   "cell_type": "markdown",
   "id": "303fcc27-4dec-437c-85bb-8767672da343",
   "metadata": {
    "editable": true,
    "slideshow": {
     "slide_type": "fragment"
    },
    "tags": []
   },
   "source": [
    "* LU Factorisation is good for dense, small systems\n",
    "* However, in reality many problems are  sparse, large or have special structure\n",
    "* [SciPy](https://scipy.org/) contains solvers for sparse systems or systems with special structure"
   ]
  },
  {
   "cell_type": "markdown",
   "id": "f22d3682-6ede-4009-bbd9-8285254fb26a",
   "metadata": {
    "editable": true,
    "slideshow": {
     "slide_type": "subslide"
    },
    "tags": []
   },
   "source": [
    "## scipy.linalg"
   ]
  },
  {
   "cell_type": "markdown",
   "id": "01013aef-c697-4575-a28f-ddfe164f9a19",
   "metadata": {
    "editable": true,
    "slideshow": {
     "slide_type": "fragment"
    },
    "tags": []
   },
   "source": [
    "* Inlcudes paths for dense matrices of special structure\n",
    "    * ``solve``: symmetric, hermitian and positive definite matrices\n",
    "    * ``solve_banded``\n",
    "    * ``solveh_banded``\n",
    "    * ``solve_circulant``\n",
    "    * ``solve_triangular``\n",
    "    * ``solve_toeplitz``"
   ]
  },
  {
   "cell_type": "markdown",
   "id": "dae1433c-2fba-40eb-876b-3782b65026ba",
   "metadata": {
    "editable": true,
    "slideshow": {
     "slide_type": "subslide"
    },
    "tags": []
   },
   "source": [
    "## scipy.sparse.linalg.spsolve"
   ]
  },
  {
   "cell_type": "markdown",
   "id": "5c648692-4c4f-4d34-bdec-de844d65d2f8",
   "metadata": {
    "editable": true,
    "slideshow": {
     "slide_type": "fragment"
    },
    "tags": []
   },
   "source": [
    "* Takes an ndarray or sparse array and solves it\n",
    "* Will conver ndarrays to a CSC or CSR array\n",
    "* This might add some overhead\n",
    "* Recommend to use sparse arrays when working with sparse systems"
   ]
  },
  {
   "cell_type": "code",
   "execution_count": 19,
   "id": "b9c2bc86-d571-4ff7-a040-5db9bccc2b2c",
   "metadata": {
    "editable": true,
    "slideshow": {
     "slide_type": "skip"
    },
    "tags": []
   },
   "outputs": [],
   "source": [
    "n = 10_000\n",
    "rng = np.random.default_rng(42)\n",
    "A = rng.random((n, n))\n",
    "b = rng.random(n)"
   ]
  },
  {
   "cell_type": "code",
   "execution_count": 20,
   "id": "cfac0c77-831d-4b03-ad06-60a773d931b8",
   "metadata": {
    "editable": true,
    "slideshow": {
     "slide_type": "subslide"
    },
    "tags": []
   },
   "outputs": [],
   "source": [
    "# Create a sparse matrix by zeroing 99% of rows\n",
    "row_ind = rng.choice(np.arange(n), int(n * 99 / 100), replace=False)\n",
    "A[row_ind, :] = 0\n",
    "np.fill_diagonal(A, 1)  # Make sure a valid solution exists"
   ]
  },
  {
   "cell_type": "code",
   "execution_count": 21,
   "id": "39de0d26-f67e-481f-a3c3-48d37031350f",
   "metadata": {
    "editable": true,
    "scrolled": true,
    "slideshow": {
     "slide_type": "fragment"
    },
    "tags": []
   },
   "outputs": [
    {
     "name": "stdout",
     "output_type": "stream",
     "text": [
      "1.95 s ± 38.9 ms per loop (mean ± std. dev. of 7 runs, 1 loop each)\n"
     ]
    }
   ],
   "source": [
    "%timeit np.linalg.solve(A, b)"
   ]
  },
  {
   "cell_type": "code",
   "execution_count": 22,
   "id": "2abd2912-0ffd-4216-a939-00cd5506d199",
   "metadata": {
    "editable": true,
    "slideshow": {
     "slide_type": "fragment"
    },
    "tags": []
   },
   "outputs": [
    {
     "name": "stderr",
     "output_type": "stream",
     "text": [
      "<magic-timeit>:1: SparseEfficiencyWarning: spsolve requires A be CSC or CSR matrix format\n"
     ]
    },
    {
     "name": "stdout",
     "output_type": "stream",
     "text": [
      "392 ms ± 2.54 ms per loop (mean ± std. dev. of 7 runs, 1 loop each)\n"
     ]
    }
   ],
   "source": [
    "%timeit sp.sparse.linalg.spsolve(A, b)"
   ]
  },
  {
   "cell_type": "code",
   "execution_count": 23,
   "id": "9cd9baed-0636-4787-b33d-86f80eca933b",
   "metadata": {
    "editable": true,
    "scrolled": true,
    "slideshow": {
     "slide_type": "fragment"
    },
    "tags": []
   },
   "outputs": [
    {
     "name": "stdout",
     "output_type": "stream",
     "text": [
      "18.6 ms ± 213 µs per loop (mean ± std. dev. of 7 runs, 100 loops each)\n"
     ]
    }
   ],
   "source": [
    "R = sp.sparse.csr_array(A)\n",
    "%timeit sp.sparse.linalg.spsolve(R, b)"
   ]
  }
 ],
 "metadata": {
  "kernelspec": {
   "display_name": "Python 3 (ipykernel)",
   "language": "python",
   "name": "python3"
  },
  "language_info": {
   "codemirror_mode": {
    "name": "ipython",
    "version": 3
   },
   "file_extension": ".py",
   "mimetype": "text/x-python",
   "name": "python",
   "nbconvert_exporter": "python",
   "pygments_lexer": "ipython3",
   "version": "3.12.2"
  }
 },
 "nbformat": 4,
 "nbformat_minor": 5
}
