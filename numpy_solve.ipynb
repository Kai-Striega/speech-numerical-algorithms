{
 "cells": [
  {
   "cell_type": "markdown",
   "id": "14b28dde84c2cdf6",
   "metadata": {
    "collapsed": false,
    "editable": true,
    "jupyter": {
     "outputs_hidden": false
    },
    "slideshow": {
     "slide_type": "slide"
    },
    "tags": []
   },
   "source": [
    "# Exploring ``np.linalg.solve``\n",
    "\n",
    "Author: Kai Striega\n",
    "Date: 2024/4/18"
   ]
  },
  {
   "cell_type": "markdown",
   "id": "d0802332-b4cc-4059-be3b-e1f027e478d9",
   "metadata": {
    "collapsed": false,
    "editable": true,
    "jupyter": {
     "outputs_hidden": false
    },
    "slideshow": {
     "slide_type": "slide"
    },
    "tags": []
   },
   "source": [
    "# Who am I?\n",
    "\n",
    "* Data engineer at BHP\n",
    "* Programming since 2009\n",
    "* Active in the scientific Python ecosystem\n",
    "    * Maintainer of SciPy\n",
    "    * Triage member of NumPy\n",
    "* Like teaching and mentoring"
   ]
  },
  {
   "cell_type": "markdown",
   "id": "2e33a1fc-5db0-42ed-a91c-b1fcefde105c",
   "metadata": {
    "collapsed": false,
    "editable": true,
    "jupyter": {
     "outputs_hidden": false
    },
    "slideshow": {
     "slide_type": "slide"
    },
    "tags": []
   },
   "source": [
    "# About this speech\n",
    "\n",
    "* This speech is for **your** benefit!\n",
    "    * Feel free to ask questions if something doesn't make sense\n",
    "    * ...but raise your hand\n",
    "* This speech covers:\n",
    "    * A quick review of linear systems\n",
    "    * How NumPy solves linear systems\n",
    "    * SciPy's improvements for systems that are sparse or have special structure\n",
    "* Slides are available at: https://github.com/Kai-Striega/speech-numpy-solve"
   ]
  },
  {
   "cell_type": "markdown",
   "id": "d27c62c6-b91f-469b-be59-a94bf69b2d7b",
   "metadata": {
    "collapsed": false,
    "editable": true,
    "is_executing": true,
    "jupyter": {
     "outputs_hidden": false
    },
    "slideshow": {
     "slide_type": "slide"
    },
    "tags": []
   },
   "source": [
    "# NumPy and SciPy\n",
    "\n",
    "* NumPy and SciPy are libraries in Python\n",
    "* Foundational in the scientific python ecosystem\n",
    "* Downloaded >100 million times a month"
   ]
  },
  {
   "cell_type": "markdown",
   "id": "ba7432de-7e8e-4dec-a8ae-7e5af3679b17",
   "metadata": {
    "collapsed": false,
    "editable": true,
    "is_executing": true,
    "jp-MarkdownHeadingCollapsed": true,
    "jupyter": {
     "outputs_hidden": false
    },
    "slideshow": {
     "slide_type": "subslide"
    },
    "tags": []
   },
   "source": [
    "NumPy provides:\n",
    "<table>\n",
    "    <tr>\n",
    "        <td>\n",
    "            <ul>\n",
    "               <li>an n-dimensional array data structure (ndarray)</li>\n",
    "               <li>simple mathematical functions to operate on these arrays (ufuncs)</li>\n",
    "               <li>some extra functionality e.g. basic linear algebra and fourier transform</li>\n",
    "            </ul>\n",
    "        </td>\n",
    "        <td>\n",
    "             <img src=\"images/numpylogo.svg\" width=\"240\" height=\"240\" align=\"center\"/>\n",
    "        </td>\n",
    "    </tr>\n",
    "       \n",
    "</table>"
   ]
  },
  {
   "cell_type": "markdown",
   "id": "04955ac7-7a4f-4ee0-9d28-a7f2d8a0ce01",
   "metadata": {
    "collapsed": false,
    "editable": true,
    "is_executing": true,
    "jp-MarkdownHeadingCollapsed": true,
    "jupyter": {
     "outputs_hidden": false
    },
    "slideshow": {
     "slide_type": "subslide"
    },
    "tags": []
   },
   "source": [
    "SciPy provides more complex operations on Arrays including:\n",
    "<table>\n",
    "    <tr>\n",
    "        <td>\n",
    "            <ul>\n",
    "               <li>optimization</li>\n",
    "               <li>integration</li>\n",
    "               <li>interpolation</li>\n",
    "               <li>eigenvalue problems</li>\n",
    "               <li>algebraic equations</li>\n",
    "               <li>differential equations</li>\n",
    "               <li>statistics</li>\n",
    "               <li>many other classes of problems.</li>\n",
    "            </ul>\n",
    "        </td>\n",
    "        <td>\n",
    "            <img src=\"images/scipy_logo.svg\" width=\"240\" height=\"240\" align=\"center\"/>\n",
    "        </td>\n",
    "    </tr>\n",
    "</table>\n"
   ]
  },
  {
   "cell_type": "code",
   "execution_count": 1,
   "id": "f581cc9c675009de",
   "metadata": {
    "collapsed": false,
    "editable": true,
    "is_executing": true,
    "jupyter": {
     "outputs_hidden": false
    },
    "slideshow": {
     "slide_type": "subslide"
    },
    "tags": []
   },
   "outputs": [
    {
     "data": {
      "text/plain": [
       "('1.26.4', '1.13.0')"
      ]
     },
     "execution_count": 1,
     "metadata": {},
     "output_type": "execute_result"
    }
   ],
   "source": [
    "import numpy as np\n",
    "import scipy as sp\n",
    "from numpy.testing import assert_allclose\n",
    "np.__version__, sp.__version__"
   ]
  },
  {
   "cell_type": "code",
   "execution_count": 2,
   "id": "56df2a3d-e678-4db9-952b-cfba8e706e17",
   "metadata": {
    "collapsed": false,
    "editable": true,
    "is_executing": true,
    "jupyter": {
     "outputs_hidden": false
    },
    "slideshow": {
     "slide_type": "skip"
    },
    "tags": []
   },
   "outputs": [],
   "source": [
    "import perfplot\n",
    "import matplotlib.pyplot as plt\n",
    "import sympy"
   ]
  },
  {
   "cell_type": "code",
   "execution_count": 3,
   "id": "f06362b8-3207-4f91-8e9f-e75710e0b708",
   "metadata": {
    "collapsed": false,
    "editable": true,
    "is_executing": true,
    "jupyter": {
     "outputs_hidden": false
    },
    "slideshow": {
     "slide_type": "skip"
    },
    "tags": []
   },
   "outputs": [],
   "source": [
    "# Only sometimes run the benchmarks, this saves development time\n",
    "RUN_BENCHMARKS = False"
   ]
  },
  {
   "cell_type": "markdown",
   "id": "77007740-6b0e-4170-b20f-dbc55e4e6a4a",
   "metadata": {
    "collapsed": false,
    "editable": true,
    "is_executing": true,
    "jupyter": {
     "outputs_hidden": false
    },
    "slideshow": {
     "slide_type": "slide"
    },
    "tags": []
   },
   "source": [
    "# What are Linear systems? (Revision)"
   ]
  },
  {
   "cell_type": "markdown",
   "id": "10789336-9c29-4fdf-a72f-73a25702fdfe",
   "metadata": {
    "collapsed": false,
    "editable": true,
    "is_executing": true,
    "jupyter": {
     "outputs_hidden": false
    },
    "slideshow": {
     "slide_type": "subslide"
    },
    "tags": []
   },
   "source": [
    "## Linear Equations"
   ]
  },
  {
   "cell_type": "markdown",
   "id": "f8890148-cc5b-4d6f-ad2e-2fd39377bdd0",
   "metadata": {
    "collapsed": false,
    "editable": true,
    "is_executing": true,
    "jp-MarkdownHeadingCollapsed": true,
    "jupyter": {
     "outputs_hidden": false
    },
    "slideshow": {
     "slide_type": "subslide"
    },
    "tags": []
   },
   "source": [
    "* Linear equations take the form:\n",
    "\n",
    "$$\n",
    "f(x_1, x_2, \\ldots, x_n) = a_1 x_1 + a_2 x_2 + \\ldots + a_n x_n\n",
    "$$\n",
    "\n",
    "* in two dimensions, linear equations represent straight lines\n",
    "* ...which you have probably seen in high school as $y = mx + b$\n",
    "* in three dimensions linear equations represent planes"
   ]
  },
  {
   "cell_type": "markdown",
   "id": "e26ec965-f7e3-42e4-bc5a-7cafb80576dd",
   "metadata": {
    "collapsed": false,
    "editable": true,
    "is_executing": true,
    "jupyter": {
     "outputs_hidden": false
    },
    "slideshow": {
     "slide_type": "subslide"
    },
    "tags": []
   },
   "source": [
    "## Linear Systems"
   ]
  },
  {
   "cell_type": "markdown",
   "id": "e7a1fcfb-d6c0-4832-8e94-d06dbaa99d85",
   "metadata": {
    "collapsed": false,
    "editable": true,
    "is_executing": true,
    "jupyter": {
     "outputs_hidden": false
    },
    "slideshow": {
     "slide_type": "subslide"
    },
    "tags": []
   },
   "source": [
    "* It is also possible to have a _system_ of related linear equations\n",
    "* For example we can have two equations with two variables:\n",
    "\n",
    "$$\n",
    "\\begin{align}\n",
    "b_1 =& a_{1, 1} x_1 + a_{1, 2} x_2 \\\\\n",
    "b_2 =& a_{2, 1} x_1 + a_{2, 2} x_2 \\\\\n",
    "\\end{align}\n",
    "$$"
   ]
  },
  {
   "cell_type": "markdown",
   "id": "e1a9a4cb-c8e4-4405-870a-fdf64cb157c9",
   "metadata": {
    "collapsed": false,
    "editable": true,
    "is_executing": true,
    "jupyter": {
     "outputs_hidden": false
    },
    "slideshow": {
     "slide_type": "subslide"
    },
    "tags": []
   },
   "source": [
    "## Solutions to systems of linear equations"
   ]
  },
  {
   "cell_type": "code",
   "execution_count": 4,
   "id": "38695326-fc6c-42ed-94ef-c9e0e7ac6453",
   "metadata": {
    "editable": true,
    "slideshow": {
     "slide_type": "skip"
    },
    "tags": []
   },
   "outputs": [
    {
     "data": {
      "image/png": "[encoded data removed]",
      "text/plain": [
       "<Figure size 1600x1000 with 3 Axes>"
      ]
     },
     "metadata": {},
     "output_type": "display_data"
    }
   ],
   "source": [
    "fig, axs = plt.subplots(1, 3, figsize=(16, 10))\n",
    "\n",
    "t = np.linspace(0, 3)\n",
    "y1 = 7 / 3 - 2 * t / 3\n",
    "y2 = 3 * t / 5 - 1 / 5\n",
    "y3 = -1 / 2 + 3 * t / 2\n",
    "y4 = -1 + 3 * t / 2\n",
    "y5 = -1 / 2 + 3 * t / 2\n",
    "\n",
    "axs[0].set_title(\"2D linear system with one solution\")\n",
    "axs[0].plot(t, y1, 'blue')\n",
    "axs[0].plot(t, y2, 'orange')\n",
    "axs[0].spines['top'].set_visible(False)\n",
    "axs[0].spines['right'].set_visible(False)\n",
    "axs[0].set_ylabel('$x_2$')\n",
    "axs[0].set_xlabel('$x_1$')\n",
    "\n",
    "axs[1].set_title(\"2D linear system with no solutions\")\n",
    "axs[1].plot(t, y3, 'blue')\n",
    "axs[1].plot(t, y4, 'orange')\n",
    "axs[1].spines['top'].set_visible(False)\n",
    "axs[1].spines['right'].set_visible(False)\n",
    "axs[1].set_ylabel('$x_2$')\n",
    "axs[1].set_xlabel('$x_1$')\n",
    "\n",
    "axs[2].set_title(\"2D linear system with an infinite number of solutions\")\n",
    "axs[2].plot(t, y5, 'blue', 0.6)\n",
    "axs[2].plot(t, y5, 'orange', alpha=0.6)\n",
    "axs[2].spines['top'].set_visible(False)\n",
    "axs[2].spines['right'].set_visible(False)\n",
    "axs[2].set_ylabel('$x_2$')\n",
    "axs[2].set_xlabel('$x_1$')\n",
    "\n",
    "plt.savefig(\"images/2d_system_of_eqs.png\", transparent=True, bbox_inches=\"tight\")\n",
    "plt.show()"
   ]
  },
  {
   "cell_type": "markdown",
   "id": "1ecd1751-a700-4e9c-9a44-9fff027329ec",
   "metadata": {
    "collapsed": false,
    "editable": true,
    "is_executing": true,
    "jupyter": {
     "outputs_hidden": false
    },
    "slideshow": {
     "slide_type": "fragment"
    },
    "tags": []
   },
   "source": [
    "* A linear system can have:\n",
    "    * a unique solution\n",
    "    * infinitely many solutions\n",
    "    * no solutions"
   ]
  },
  {
   "cell_type": "markdown",
   "id": "d180fc2e-a3dd-4f9e-b625-e86f536f630c",
   "metadata": {
    "collapsed": false,
    "editable": true,
    "is_executing": true,
    "jupyter": {
     "outputs_hidden": false
    },
    "slideshow": {
     "slide_type": "subslide"
    },
    "tags": []
   },
   "source": [
    "![Possible 2D systems of equations](images/2d_system_of_eqs.png)"
   ]
  },
  {
   "cell_type": "code",
   "execution_count": 5,
   "id": "3ea51b69-a054-4d47-b523-0935dfd0c6d3",
   "metadata": {
    "editable": true,
    "slideshow": {
     "slide_type": "skip"
    },
    "tags": []
   },
   "outputs": [
    {
     "data": {
      "image/png": "[encoded data removed]",
      "text/plain": [
       "<Figure size 800x800 with 1 Axes>"
      ]
     },
     "metadata": {},
     "output_type": "display_data"
    }
   ],
   "source": [
    "x = np.linspace(-1, 1, 50)\n",
    "y = np.linspace(-1, 1, 50)\n",
    "z = np.linspace(-1, 1, 50)\n",
    "X, Y, Z = np.meshgrid(x,y,z)\n",
    "# horizontal planes with z = 0\n",
    "z0 = np.zeros_like(X)\n",
    "\n",
    "# another two plane with the equation: z1 = -10 * y + 10, z2 = 10 * y + 10\n",
    "z1 = -10 * Y + 10\n",
    "z2 = 10 * Y + 10\n",
    "data = [z0, z1, z2]\n",
    "colors = [\"orange\", \"green\", \"blue\"]\n",
    "\n",
    "fig = plt.figure(figsize=(8,8))\n",
    "ax = plt.axes(projection='3d')\n",
    "\n",
    "for i in range(0, 3):\n",
    "    oneDim = np.linspace(-1, 1, 50)\n",
    "    otherDim = np.linspace(-1, 1, 50)\n",
    "    oneDim, otherDim = np.meshgrid(oneDim, otherDim)\n",
    "    data = [oneDim, otherDim]\n",
    "    data.insert(i, np.zeros_like(oneDim))\n",
    "    ax.plot_surface(data[0], data[1], data[2], alpha=0.4, zorder=1)\n",
    "ax.set_xlabel(r\"$x$\")\n",
    "ax.set_xticklabels([])\n",
    "ax.set_ylabel(r\"$y$\")\n",
    "ax.set_yticklabels([])\n",
    "ax.set_zlabel(r'$z$')\n",
    "ax.set_zticklabels([])\n",
    "\n",
    "# use sympy to solve the two intersection lines\n",
    "x, y, z = sympy.symbols('x, y, z')\n",
    "eq0 = sympy.Eq(z, 0)\n",
    "eq1 = sympy.Eq(y, 0)\n",
    "eq2 = sympy.Eq(x, 0)\n",
    "sol = sympy.solve([eq0, eq1, eq2], dict=True)\n",
    "sol01 = sympy.solve([eq0, eq1], dict=True)\n",
    "sol02 = sympy.solve([eq0, eq2], dict=True)\n",
    "sol12 = sympy.solve([eq1, eq2], dict=True)\n",
    "\n",
    "ax.plot(np.linspace(-1, 1, 10),\n",
    "        np.ones(10) * sol01[0][y],\n",
    "        np.ones(10) * sol01[0][z],\n",
    "        linewidth=4, color='red')\n",
    "ax.plot(np.ones(10) * sol02[0][x],\n",
    "        np.linspace(-1, 1, 10),        \n",
    "        np.ones(10) * sol02[0][z],\n",
    "        linewidth=4, color='red')\n",
    "ax.plot(np.ones(10) * sol12[0][x],\n",
    "        np.ones(10) * sol12[0][y],\n",
    "        np.linspace(-1, 1, 10),\n",
    "        linewidth=4, color='red')\n",
    "ax.scatter(sol[0][x], sol[0][y], sol[0][z], marker='*', s=400, color='k')\n",
    "ax.view_init(elev=30, azim=20)\n",
    "\n",
    "plt.savefig(\"images/3d_system_of_equations_with_unique_solution.png\", transparent=True, bbox_inches=\"tight\")\n",
    "plt.show()\n"
   ]
  },
  {
   "cell_type": "markdown",
   "id": "81137fb1-9702-4085-a0a5-136cbf0e2803",
   "metadata": {
    "editable": true,
    "slideshow": {
     "slide_type": "subslide"
    },
    "tags": []
   },
   "source": [
    "## And in 3 dimensions\n",
    "\n",
    "![A 3D linear system with a unique solution](images/3d_system_of_equations_with_unique_solution.png)"
   ]
  },
  {
   "cell_type": "markdown",
   "id": "f86710ad-308f-44b5-9d6c-2cdc84840167",
   "metadata": {
    "collapsed": false,
    "editable": true,
    "is_executing": true,
    "jupyter": {
     "outputs_hidden": false
    },
    "slideshow": {
     "slide_type": "subslide"
    },
    "tags": []
   },
   "source": [
    "## Linear systems in matrix form"
   ]
  },
  {
   "cell_type": "markdown",
   "id": "94c5a1e2-7011-4daa-945e-309ef9539e79",
   "metadata": {
    "collapsed": false,
    "editable": true,
    "is_executing": true,
    "jupyter": {
     "outputs_hidden": false
    },
    "slideshow": {
     "slide_type": "fragment"
    },
    "tags": []
   },
   "source": [
    "* Consider the general linear system:\n",
    "\n",
    "$$\n",
    "\\begin{align}\n",
    "b_1 =& a_{1, 1} x_1 + a_{1, 2} x_2 + \\ldots + a_{1, n} x_n \\\\\n",
    "b_2 =& a_{2, 1} x_1 + a_{2, 2} x_2 + \\ldots + a_{2, n} x_n \\\\\n",
    "\\vdots \\\\\n",
    "b_n =& a_{n, 1} x_1 + a_{n, 2} x_2 + \\ldots + a_{n, n} x_n\n",
    "\\end{align}\n",
    "$$"
   ]
  },
  {
   "cell_type": "markdown",
   "id": "b2c95d2e-00ef-4fc2-80ff-2ca02816d788",
   "metadata": {
    "collapsed": false,
    "editable": true,
    "is_executing": true,
    "jupyter": {
     "outputs_hidden": false
    },
    "slideshow": {
     "slide_type": "fragment"
    },
    "tags": []
   },
   "source": [
    "* We can rewrite this using matrices as:\n",
    "\n",
    "$$\n",
    "\\begin{bmatrix} b_1 \\\\ b_2 \\\\ \\vdots \\\\ b_n \\end{bmatrix}\n",
    "=\n",
    "\\begin{bmatrix}\n",
    "a_{1, 1} & a_{1, 2} & \\ldots & a_{1, n} \\\\\n",
    "a_{2, 1} & a_{2, 2} & \\ldots & a_{2, n} \\\\\n",
    "\\vdots & & & \\\\\n",
    "a_{n, 1} & a_{n, 2} & \\ldots & a_{n, n} \\\\\n",
    "\\end{bmatrix}\n",
    "\\begin{bmatrix} x_1 \\\\ x_2 \\\\ \\vdots \\\\ x_n \\end{bmatrix}\n",
    "$$"
   ]
  },
  {
   "cell_type": "markdown",
   "id": "68de35ef-d14d-414e-b444-1b27377e5e9c",
   "metadata": {
    "collapsed": false,
    "editable": true,
    "jupyter": {
     "outputs_hidden": false
    },
    "slideshow": {
     "slide_type": "slide"
    },
    "tags": []
   },
   "source": [
    "# Problem Statement"
   ]
  },
  {
   "cell_type": "markdown",
   "id": "0ab75825-1097-46a9-b810-4bf3205bf66f",
   "metadata": {
    "editable": true,
    "slideshow": {
     "slide_type": "subslide"
    },
    "tags": []
   },
   "source": [
    "Consider the system of linear equations:\n",
    "\n",
    "$$ Ax = b $$\n",
    "\n",
    "Where: \n",
    "\n",
    "* $A$ is a known, invertible $n\\text{ x }n$ matrix\n",
    "* $x$ is an unknown $n$ dimensional vector\n",
    "* $b$ is a known $n$ dimensional vector\n",
    "\n",
    "We want to be able to solve this system for $x$."
   ]
  },
  {
   "cell_type": "markdown",
   "id": "caa061d6-d1e3-4ae8-96c0-7c364b071b8b",
   "metadata": {
    "editable": true,
    "slideshow": {
     "slide_type": "subslide"
    },
    "tags": []
   },
   "source": [
    "* We've all solved these kind of problems by hand\n",
    "* In applications the problem size is usually huge\n",
    "* In this case we need to develop algorithms to let a computer do the job\n",
    "* Well, we don't, because they have already been written"
   ]
  },
  {
   "cell_type": "code",
   "execution_count": 6,
   "id": "701e23e9-37a2-4485-bfff-4c210b60ee8a",
   "metadata": {
    "editable": true,
    "slideshow": {
     "slide_type": "subslide"
    },
    "tags": []
   },
   "outputs": [
    {
     "data": {
      "text/plain": [
       "array([  8., -11.,  -3.])"
      ]
     },
     "execution_count": 6,
     "metadata": {},
     "output_type": "execute_result"
    }
   ],
   "source": [
    "A = np.array([[2, 1, -1],\n",
    "              [-3, -1, 2],\n",
    "              [-2, 1, 2]])\n",
    "\n",
    "b = np.array([8, -11, -3])\n",
    "x = np.linalg.solve(A, b)\n",
    "\n",
    "A @ x"
   ]
  },
  {
   "cell_type": "code",
   "execution_count": 7,
   "id": "abbbe649-b49b-41f3-9510-1242da5cfd03",
   "metadata": {
    "editable": true,
    "slideshow": {
     "slide_type": "subslide"
    },
    "tags": []
   },
   "outputs": [],
   "source": [
    "rng = np.random.default_rng(42)\n",
    "n = 10_000\n",
    "A = rng.random((n, n))\n",
    "b = rng.random(n)\n",
    "x = np.linalg.solve(A, b)\n",
    "assert_allclose(A @ x, b)"
   ]
  },
  {
   "cell_type": "markdown",
   "id": "83d123da-5fae-4266-984c-754ccff60ba6",
   "metadata": {
    "editable": true,
    "slideshow": {
     "slide_type": "subslide"
    },
    "tags": []
   },
   "source": [
    "## Great!\n",
    "\n",
    "* We have reduced a whole subfield of mathematics into a single line of NumPy.\n",
    "* But I like to __understand__ how a method works, not just use it\n",
    "* This talk will look at __how__ to solve this type of equation"
   ]
  },
  {
   "cell_type": "markdown",
   "id": "30fa9b85-ae65-4ad7-aada-6881299b1629",
   "metadata": {
    "editable": true,
    "slideshow": {
     "slide_type": "slide"
    },
    "tags": []
   },
   "source": [
    "# How does NumPy do it?"
   ]
  },
  {
   "cell_type": "markdown",
   "id": "756fe353-8164-48ed-8212-94a0ea564d84",
   "metadata": {
    "editable": true,
    "slideshow": {
     "slide_type": "subslide"
    },
    "tags": []
   },
   "source": [
    "* NumPy defines the ``solve`` function in [umath_linalg.cpp](https://github.com/numpy/numpy/blob/370f1e5c2d24b2fc4b49152c92bafbcb0384346b/numpy/linalg/umath_linalg.cpp#L1768-L1803)\n",
    "* NumPy calls the [LAPACK](https://en.wikipedia.org/wiki/LAPACK) routine ``_dgesv``\n",
    "* There are multiple implementations of LAPACK\n",
    "* The reference implementation of ``_dgesv`` is available on [Netlib](https://netlib.org/lapack/explore-html-3.6.1/d7/d3b/group__double_g_esolve_ga5ee879032a8365897c3ba91e3dc8d512.html)"
   ]
  },
  {
   "cell_type": "markdown",
   "id": "704b5a1d-d0cb-49f3-816a-e7a7a178e141",
   "metadata": {
    "editable": true,
    "slideshow": {
     "slide_type": "subslide"
    },
    "tags": []
   },
   "source": [
    "# Digression: Matrix inversion"
   ]
  },
  {
   "cell_type": "markdown",
   "id": "de1a492b-df48-4287-a5c9-bb3c668d6662",
   "metadata": {
    "editable": true,
    "slideshow": {
     "slide_type": "subslide"
    },
    "tags": []
   },
   "source": [
    "* From our maths classes, we know that we can invert a matrix to solve a system of equations\n",
    "* This can be used to solve a system of equations:\n",
    "$$\n",
    "\\begin{align}\n",
    "Ax &= b \\\\\n",
    "A^{-1}Ax &= A^{-1}b \\\\\n",
    "x &= A^{-1}b \\\\\n",
    "\\end{align}\n",
    "$$"
   ]
  },
  {
   "cell_type": "code",
   "execution_count": 8,
   "id": "069b1840-b023-44eb-9bc1-2ecb44d47b68",
   "metadata": {
    "editable": true,
    "slideshow": {
     "slide_type": "subslide"
    },
    "tags": []
   },
   "outputs": [],
   "source": [
    "x = np.linalg.inv(A) @ b\n",
    "assert_allclose(A @ x, b)"
   ]
  },
  {
   "cell_type": "markdown",
   "id": "57e850c7-f0da-498c-82b4-fdbde1d4108a",
   "metadata": {
    "editable": true,
    "slideshow": {
     "slide_type": "subslide"
    },
    "tags": []
   },
   "source": [
    "## Why we don't use matrix inversion"
   ]
  },
  {
   "cell_type": "markdown",
   "id": "282268db-a4a6-4075-bc95-3c2c164161b3",
   "metadata": {
    "editable": true,
    "slideshow": {
     "slide_type": "subslide"
    },
    "tags": []
   },
   "source": [
    "### Benchmarks"
   ]
  },
  {
   "cell_type": "code",
   "execution_count": 9,
   "id": "b16a076b-346c-4795-93c3-ab963f302bfb",
   "metadata": {
    "editable": true,
    "slideshow": {
     "slide_type": ""
    },
    "tags": []
   },
   "outputs": [
    {
     "name": "stdout",
     "output_type": "stream",
     "text": [
      "6.83 s ± 116 ms per loop (mean ± std. dev. of 7 runs, 1 loop each)\n"
     ]
    }
   ],
   "source": [
    "%timeit np.linalg.inv(A) @ b"
   ]
  },
  {
   "cell_type": "code",
   "execution_count": 10,
   "id": "b830e175-04ac-4ceb-ba37-4b8ad1938bb2",
   "metadata": {
    "editable": true,
    "slideshow": {
     "slide_type": ""
    },
    "tags": []
   },
   "outputs": [
    {
     "name": "stdout",
     "output_type": "stream",
     "text": [
      "2.23 s ± 65.7 ms per loop (mean ± std. dev. of 7 runs, 1 loop each)\n"
     ]
    }
   ],
   "source": [
    "%timeit np.linalg.solve(A, b)"
   ]
  },
  {
   "cell_type": "code",
   "execution_count": 11,
   "id": "a6699242-61b4-4795-aca5-84b52b9c0457",
   "metadata": {
    "editable": true,
    "slideshow": {
     "slide_type": "skip"
    },
    "tags": []
   },
   "outputs": [],
   "source": [
    "if RUN_BENCHMARKS:\n",
    "    out = perfplot.bench(\n",
    "        setup=lambda n: (rng.random((n, n)), rng.random(n)), \n",
    "        kernels=[\n",
    "            lambda A, b: np.linalg.solve(A, b),\n",
    "            lambda A, b: np.linalg.inv(A) @ b,\n",
    "        ],\n",
    "        labels=[\"np.linalg.solve\", \"np.linalg.inv\"],\n",
    "        n_range=range(0, 20_000, 250),\n",
    "        xlabel=\"Size of system\",\n",
    "    )\n",
    "    out.save(\"images/inv_vs_solve.png\", transparent=True, bbox_inches=\"tight\")\n",
    "    out.show()"
   ]
  },
  {
   "cell_type": "markdown",
   "id": "7aaf8896-299f-4a8c-9fa3-dcfd85466075",
   "metadata": {
    "editable": true,
    "slideshow": {
     "slide_type": "subslide"
    },
    "tags": []
   },
   "source": [
    "### How NumPy calculates an inverse"
   ]
  },
  {
   "cell_type": "markdown",
   "id": "7e3d1795-de9d-400d-8488-912a8785cf3a",
   "metadata": {
    "editable": true,
    "slideshow": {
     "slide_type": "fragment"
    },
    "tags": []
   },
   "source": [
    "* Calculating an inverse directly is _slow_\n",
    "* We can see how NumPy does it from the [source code](https://github.com/numpy/numpy/blob/370f1e5c2d24b2fc4b49152c92bafbcb0384346b/numpy/linalg/umath_linalg.cpp#L1805-L1839)\n",
    "* It solves the linear system $AA^{-1} = I$ to find the inverse\n",
    "* Calling `np.linalg.inv(A) @ b` is equivalent to calling `np.linalg.solve(A, np.eye(n)) @ b`"
   ]
  },
  {
   "cell_type": "markdown",
   "id": "08100a9f-b66b-46b6-bd00-228cd0070222",
   "metadata": {
    "editable": true,
    "slideshow": {
     "slide_type": "slide"
    },
    "tags": []
   },
   "source": [
    "# LU Factorization"
   ]
  },
  {
   "cell_type": "markdown",
   "id": "3af0dbb6-8c7e-4fdb-ab17-0974131d46e6",
   "metadata": {
    "editable": true,
    "slideshow": {
     "slide_type": "subslide"
    },
    "tags": []
   },
   "source": [
    "* Basic idea: Convert $A$ to an upper triangular matrix by multiplying by finitely many lower triangular matrices\n",
    "\n",
    "$$ E_{n-1} \\dots  E_2 E_1 A = U $$\n",
    "\n",
    "* With some rearranging, this leads to the LU factorisation:\n",
    "  \n",
    "$$ \n",
    "\\begin{align}\n",
    "A &= E_1^{-1}E_2^{-1} \\ldots E_{n-1}^{-1}U \\\\\n",
    "&= L_1 L_2 \\ldots L_{n-1} U \\\\\n",
    "&= LU\n",
    "\\end{align}\n",
    "$$"
   ]
  },
  {
   "cell_type": "markdown",
   "id": "6b505fa2-88a2-47ba-b05c-4226745e61a4",
   "metadata": {
    "editable": true,
    "slideshow": {
     "slide_type": "subslide"
    },
    "tags": []
   },
   "source": [
    "## Solving linear systems using LU Factorization"
   ]
  },
  {
   "cell_type": "markdown",
   "id": "e0bbb2e7-2e55-444f-aa29-61748d031485",
   "metadata": {
    "editable": true,
    "slideshow": {
     "slide_type": "subslide"
    },
    "tags": []
   },
   "source": [
    "* Consider the linear system $$Ax = b$$ with LU factorisation $$ A = LU $$. \n",
    "* Now we have $LUx = b$. Set $y = Ux$ Then the solution for $Ax=b$ can be found in two steps:\n",
    "    1. Solve the system $Ly=b$ for $y$ by _forward substitution_\n",
    "    2. Solve the system $Ux=y$ for $x$ by _back substitution_"
   ]
  },
  {
   "cell_type": "markdown",
   "id": "87fb2b9f-bfaf-41e6-b4ed-0b782690b0f5",
   "metadata": {
    "editable": true,
    "slideshow": {
     "slide_type": "subslide"
    },
    "tags": []
   },
   "source": [
    "### Forward substitution"
   ]
  },
  {
   "cell_type": "markdown",
   "id": "634837de-6c3f-405e-842a-2216012495f8",
   "metadata": {
    "editable": true,
    "slideshow": {
     "slide_type": "subslide"
    },
    "tags": []
   },
   "source": [
    "Consider the system $Ly=b$:\n",
    "\n",
    "$$ Ly = \n",
    "\\begin{bmatrix}\n",
    "l_{1, 1} & 0 & \\ldots & 0 \\\\ \n",
    "l_{2, 1} & l_{2, 2} & & \\vdots\\\\\n",
    "\\vdots & & \\ddots & 0 \\\\\n",
    "l_{n, 1} & l_{n, 2} & \\ldots & l_{n,n}\n",
    "\\end{bmatrix}\n",
    "\\begin{bmatrix} y_1 \\\\ y_2 \\\\ \\vdots \\\\ y_n \\end{bmatrix}\n",
    "= \n",
    "\\begin{bmatrix} b_1 \\\\ b_2 \\\\ \\vdots \\\\ b_n \\end{bmatrix}\n",
    "$$"
   ]
  },
  {
   "cell_type": "markdown",
   "id": "74dcdce5-5723-48b1-88b9-f77583ff7f3f",
   "metadata": {
    "editable": true,
    "slideshow": {
     "slide_type": "subslide"
    },
    "tags": []
   },
   "source": [
    "By the first equation we get $$y_1 = \\frac{b_1}{l_{1,1}}$$ \n",
    "\n",
    "Then, by induction, it can be shown that the solution is given by forward substitution:\n",
    "\n",
    "$$ y_i = \\frac{b_i - \\sum_{k=1}^{i-1} l_{i,k}y_k}{l_{i,i}} $$"
   ]
  },
  {
   "cell_type": "markdown",
   "id": "c79a8eab-4bc3-4881-8d92-89bf0300595b",
   "metadata": {
    "editable": true,
    "slideshow": {
     "slide_type": "subslide"
    },
    "tags": []
   },
   "source": [
    "### Back Substitution"
   ]
  },
  {
   "cell_type": "markdown",
   "id": "298acd26-f486-4746-b605-acab63a1e32b",
   "metadata": {
    "editable": true,
    "slideshow": {
     "slide_type": "subslide"
    },
    "tags": []
   },
   "source": [
    "* We now know $y$ we need to solve the system $Ux=y$ for $x$ by back substitution:\n",
    "\n",
    "$$ U = \n",
    "\\begin{bmatrix}\n",
    "u_{1, 1} & u_{1,2} & \\ldots & u_{1,n} \\\\ \n",
    "0 & l_{2, 2} & \\ldots & u_{2,n}\\\\\n",
    "\\vdots & & \\ddots & \\vdots \\\\\n",
    "0 & \\ldots & 0 & u_{n,n}\n",
    "\\end{bmatrix}\n",
    "\\begin{bmatrix} x_1 \\\\ x_2 \\\\ \\vdots \\\\ x_n \\end{bmatrix}\n",
    "= \n",
    "\\begin{bmatrix} y_1 \\\\ y_2 \\\\ \\vdots \\\\ y_n \\end{bmatrix}\n",
    "$$"
   ]
  },
  {
   "cell_type": "markdown",
   "id": "4574dbd9-ff66-4c52-b012-e59b31f0f01d",
   "metadata": {
    "editable": true,
    "slideshow": {
     "slide_type": "subslide"
    },
    "tags": []
   },
   "source": [
    "* By the last equation we obtain: $$ x_n = \\frac{y_n}{u_{n,n}} $$ \n",
    "* By induction we can solve the solution $x$ by back substitution:\n",
    "\n",
    "$$ x_i = \\frac{y_i - \\sum_{k=i + 1}^{n} u_{i,k}x_k}{u_{i,i}} $$"
   ]
  },
  {
   "cell_type": "markdown",
   "id": "9dba0a68-b782-44d6-9e14-e22c7e00402f",
   "metadata": {
    "editable": true,
    "slideshow": {
     "slide_type": "subslide"
    },
    "tags": []
   },
   "source": [
    "##  All that in code"
   ]
  },
  {
   "cell_type": "code",
   "execution_count": 12,
   "id": "02e71cd8-2e74-4de4-952c-e0c6b5883de4",
   "metadata": {
    "editable": true,
    "slideshow": {
     "slide_type": "subslide"
    },
    "tags": []
   },
   "outputs": [],
   "source": [
    "def lu(A):\n",
    "    \n",
    "    #Get the number of rows\n",
    "    n = A.shape[0]\n",
    "    \n",
    "    U = A.copy().astype(np.float64)\n",
    "    L = np.eye(n, dtype=np.float64)\n",
    "\n",
    "    for i in range(n):\n",
    "            \n",
    "        # Eliminate entries below i with row operations \n",
    "        # on U and reverse the row operations to \n",
    "        # manipulate L\n",
    "        factor = U[i+1:, i] / U[i, i]\n",
    "        L[i+1:, i] = factor\n",
    "        U[i+1:] -= factor[:, np.newaxis] * U[i]\n",
    "        \n",
    "    return L, U"
   ]
  },
  {
   "cell_type": "code",
   "execution_count": 13,
   "id": "00e9ffa3-8073-47b5-a7c9-c81e2286a12c",
   "metadata": {
    "editable": true,
    "slideshow": {
     "slide_type": "subslide"
    },
    "tags": []
   },
   "outputs": [],
   "source": [
    "A = np.array([[2, 1, -1],\n",
    "              [-3, -1, 2],\n",
    "              [-2, 1, 2]])\n",
    "b = np.array([8, -11, -3])\n",
    "\n",
    "L, U = lu(A)"
   ]
  },
  {
   "cell_type": "code",
   "execution_count": 14,
   "id": "a89281b3-5e91-4af9-ba17-b9af16f97684",
   "metadata": {
    "editable": true,
    "slideshow": {
     "slide_type": "subslide"
    },
    "tags": []
   },
   "outputs": [
    {
     "data": {
      "text/plain": [
       "array([[ 1. ,  0. ,  0. ],\n",
       "       [-1.5,  1. ,  0. ],\n",
       "       [-1. ,  4. ,  1. ]])"
      ]
     },
     "execution_count": 14,
     "metadata": {},
     "output_type": "execute_result"
    }
   ],
   "source": [
    "L"
   ]
  },
  {
   "cell_type": "code",
   "execution_count": 15,
   "id": "502fde1a-6806-462d-aa41-89651ff5639c",
   "metadata": {
    "editable": true,
    "scrolled": true,
    "slideshow": {
     "slide_type": "fragment"
    },
    "tags": []
   },
   "outputs": [
    {
     "data": {
      "text/plain": [
       "array([[ 2. ,  1. , -1. ],\n",
       "       [ 0. ,  0.5,  0.5],\n",
       "       [ 0. ,  0. , -1. ]])"
      ]
     },
     "execution_count": 15,
     "metadata": {},
     "output_type": "execute_result"
    }
   ],
   "source": [
    "U"
   ]
  },
  {
   "cell_type": "code",
   "execution_count": 16,
   "id": "3fd55a44-cb03-484e-8d69-ddf90b94be89",
   "metadata": {
    "editable": true,
    "slideshow": {
     "slide_type": "fragment"
    },
    "tags": []
   },
   "outputs": [
    {
     "data": {
      "text/plain": [
       "array([[ 2.,  1., -1.],\n",
       "       [-3., -1.,  2.],\n",
       "       [-2.,  1.,  2.]])"
      ]
     },
     "execution_count": 16,
     "metadata": {},
     "output_type": "execute_result"
    }
   ],
   "source": [
    "L @ U"
   ]
  },
  {
   "cell_type": "code",
   "execution_count": 17,
   "id": "d3dae3cc-f158-4a9d-b128-fd8b50880670",
   "metadata": {
    "editable": true,
    "slideshow": {
     "slide_type": "fragment"
    },
    "tags": []
   },
   "outputs": [],
   "source": [
    "assert_allclose(L @ U, A)"
   ]
  },
  {
   "cell_type": "code",
   "execution_count": 18,
   "id": "81b89aa2-c011-4ffc-a9e8-60643f731368",
   "metadata": {
    "editable": true,
    "slideshow": {
     "slide_type": "subslide"
    },
    "tags": []
   },
   "outputs": [],
   "source": [
    "def forward_substitution(L, b):\n",
    "    \n",
    "    # Get number of rows\n",
    "    n = L.shape[0]\n",
    "    \n",
    "    # Allocating space for the solution vector\n",
    "    y = np.zeros_like(b, dtype=np.double);\n",
    "    \n",
    "    # Here we perform the forward-substitution.  \n",
    "    # Initializing  with the first row.\n",
    "    y[0] = b[0] / L[0, 0]\n",
    "    \n",
    "    # Looping over rows in reverse (from the bottom  up),\n",
    "    # starting with the second to last row, because  the \n",
    "    # last row solve was completed in the last step.\n",
    "    for i in range(1, n):\n",
    "        y[i] = (b[i] - np.dot(L[i,:i], y[:i])) / L[i,i]\n",
    "        \n",
    "    return y"
   ]
  },
  {
   "cell_type": "code",
   "execution_count": 19,
   "id": "f9dd3738-1ea7-4c67-aae4-653f96d3033e",
   "metadata": {
    "editable": true,
    "slideshow": {
     "slide_type": "fragment"
    },
    "tags": []
   },
   "outputs": [
    {
     "data": {
      "text/plain": [
       "array([8., 1., 1.])"
      ]
     },
     "execution_count": 19,
     "metadata": {},
     "output_type": "execute_result"
    }
   ],
   "source": [
    "y = forward_substitution(L, b)\n",
    "y"
   ]
  },
  {
   "cell_type": "code",
   "execution_count": 20,
   "id": "de243154-f3ec-4a3f-b656-db3d69b1111e",
   "metadata": {
    "editable": true,
    "slideshow": {
     "slide_type": "subslide"
    },
    "tags": []
   },
   "outputs": [],
   "source": [
    "def back_substitution(U, y):\n",
    "    \n",
    "    # Number of rows\n",
    "    n = U.shape[0]\n",
    "    \n",
    "    # Allocating space for the solution vector\n",
    "    x = np.zeros_like(y, dtype=np.double);\n",
    "\n",
    "    # Here we perform the back-substitution.  \n",
    "    # Initializing with the last row.\n",
    "    x[-1] = y[-1] / U[-1, -1]\n",
    "    \n",
    "    # Looping over rows in reverse (from the bottom up), \n",
    "    # starting with the second to last row, because the \n",
    "    # last row solve was completed in the last step.\n",
    "    for i in range(n-2, -1, -1):\n",
    "        x[i] = (y[i] - np.dot(U[i,i:], x[i:])) / U[i,i]\n",
    "        \n",
    "    return x"
   ]
  },
  {
   "cell_type": "code",
   "execution_count": 21,
   "id": "5f57def3-7e19-4e88-b2b7-a9d1b9f339b6",
   "metadata": {
    "editable": true,
    "slideshow": {
     "slide_type": "fragment"
    },
    "tags": []
   },
   "outputs": [
    {
     "data": {
      "text/plain": [
       "array([ 2.,  3., -1.])"
      ]
     },
     "execution_count": 21,
     "metadata": {},
     "output_type": "execute_result"
    }
   ],
   "source": [
    "x = back_substitution(U, y)\n",
    "x"
   ]
  },
  {
   "cell_type": "code",
   "execution_count": 22,
   "id": "81bae7ed-ab4a-435d-ade0-b5d116b6bf34",
   "metadata": {
    "editable": true,
    "slideshow": {
     "slide_type": "fragment"
    },
    "tags": []
   },
   "outputs": [],
   "source": [
    "assert_allclose(A @ x, b)"
   ]
  },
  {
   "cell_type": "markdown",
   "id": "45b18db0-3453-46d6-9c6e-43b1787c4618",
   "metadata": {
    "editable": true,
    "slideshow": {
     "slide_type": "slide"
    },
    "tags": []
   },
   "source": [
    "# Problems with LU factorisation"
   ]
  },
  {
   "cell_type": "markdown",
   "id": "f8f32fba-9e0e-40e8-9f31-867e22d6c285",
   "metadata": {
    "editable": true,
    "slideshow": {
     "slide_type": "subslide"
    },
    "tags": []
   },
   "source": [
    "## Problem 1: Backward instability"
   ]
  },
  {
   "cell_type": "markdown",
   "id": "430094ae-ba7b-4a34-b836-4e557e2e2631",
   "metadata": {
    "editable": true,
    "slideshow": {
     "slide_type": "subslide"
    },
    "tags": []
   },
   "source": [
    "Consider the linear system $Ax=b$, where:\n",
    "\n",
    "$$\n",
    "A = \\begin{bmatrix} 1 & 1 & 1 \\\\ 2 & 2 + \\varepsilon & 5 \\\\ 4 & 6 & 8 \\\\ \\end{bmatrix}, b = \\begin{bmatrix} 1 \\\\ 0 \\\\ 0 \\end{bmatrix}\n",
    "$$"
   ]
  },
  {
   "cell_type": "markdown",
   "id": "95279c30-bc79-4af1-adfa-4cf4dda02a35",
   "metadata": {
    "editable": true,
    "slideshow": {
     "slide_type": "subslide"
    },
    "tags": []
   },
   "source": [
    "Then \n",
    "\n",
    "$$\n",
    "E_1 A \n",
    "= \\begin{bmatrix} 1 & 0 & 0 \\\\ -2 & 1 & 0 \\\\ -4 & 0 & 0 \\\\ \\end{bmatrix} \\begin{bmatrix} 1 & 1 & 1 \\\\ 2 & 2 + \\varepsilon & 5 \\\\ 4 & 6 & 8 \\\\ \\end{bmatrix} \n",
    "= \\begin{bmatrix} 1 & 1 & 1 \\\\ 0 & \\varepsilon & 3 \\\\ 0 & 2 & 4 \\\\ \\end{bmatrix}\n",
    "$$\n",
    "\n",
    "And \n",
    "\n",
    "$$ E_2 E_1 A\n",
    "= \\begin{bmatrix} 1 & 0 & 0 \\\\ 0 & 1 & 0 \\\\ 0 & -\\frac{2}{\\varepsilon} & 1 \\\\ \\end{bmatrix} \\begin{bmatrix} 1 & 1 & 1 \\\\ 0 & \\varepsilon & 3 \\\\ 0 & 2 & 4 \\\\ \\end{bmatrix}\n",
    "= \\begin{bmatrix} 1 & 1 & 1 \\\\ 0 & \\varepsilon & 3 \\\\ 0 & 0 & 4-\\frac{6}{\\varepsilon} \\\\ \\end{bmatrix}\n",
    "$$"
   ]
  },
  {
   "cell_type": "markdown",
   "id": "795a13d2-fe6b-434d-8189-bfbe4bdd9417",
   "metadata": {
    "editable": true,
    "slideshow": {
     "slide_type": "subslide"
    },
    "tags": []
   },
   "source": [
    "Which gives:\n",
    "\n",
    "$$\n",
    "L = \\begin{bmatrix} 1 & 0 & 0 \\\\ 2 & 1 & 0 \\\\ 4 & \\frac{2}{\\varepsilon} & 1 \\end{bmatrix}, U = \\begin{bmatrix} 1 & 1 & 1 \\\\ 0 & \\varepsilon & 3 \\\\ 0 & 0 & 4-\\frac{6}{\\varepsilon} \\\\ \\end{bmatrix}\n",
    "$$"
   ]
  },
  {
   "cell_type": "markdown",
   "id": "a26370f1-a733-4467-837f-4d98121d5335",
   "metadata": {
    "editable": true,
    "slideshow": {
     "slide_type": "subslide"
    },
    "tags": []
   },
   "source": [
    "* If $\\varepsilon$ is on the order of machine accuracy, the $4$ in $4-\\frac{6}{\\varepsilon}$ becomes insignificant (because $\\frac{6}{\\varepsilon}$ is very large)\n",
    "* This means that during computation we actually use:\n",
    "\n",
    "$$ L^{\\prime} = L, U^{\\prime} = \\begin{bmatrix} 1 & 1 & 1 \\\\ 0 & \\varepsilon & 3 \\\\ 0 & 0 & -\\frac{6}{\\varepsilon} \\\\ \\end{bmatrix} $$"
   ]
  },
  {
   "cell_type": "markdown",
   "id": "863e04b1-b203-4aee-b25f-89e8a5f09efd",
   "metadata": {
    "editable": true,
    "slideshow": {
     "slide_type": "subslide"
    },
    "tags": []
   },
   "source": [
    "But now:\n",
    "\n",
    "$$ \n",
    "L^{\\prime} U^{\\prime}\n",
    "= \\begin{bmatrix} 1 & 1 & 1 \\\\ 2 & 2 + \\varepsilon & 5 \\\\ 4 & 6 & 4 \\\\ \\end{bmatrix}\n",
    "\\ne A\n",
    "$$\n",
    "\n",
    "... which is a problem"
   ]
  },
  {
   "cell_type": "markdown",
   "id": "7d0439d9-8cda-4468-a1aa-09b31fe9bb7e",
   "metadata": {
    "editable": true,
    "slideshow": {
     "slide_type": "subslide"
    },
    "tags": []
   },
   "source": [
    "Furthermore if we use $L$ and $U$ to get $x$:\n",
    "\n",
    "$$\n",
    "x = \\begin{bmatrix} \\frac{4 \\varepsilon - 7}{2 \\varepsilon - 3} \\\\ \\frac{2}{2\\varepsilon - 3} \\\\ -\\frac{2(\\varepsilon - 1)}{2 \\varepsilon - 3} \\end{bmatrix}\n",
    "\\approx \\begin{bmatrix} \\frac{7}{3} \\\\ -\\frac{2}{3} \\\\ -\\frac{2}{3} \\\\ \\end{bmatrix}\n",
    "$$\n",
    "\n",
    "While if we use $L^{\\prime}$ and $U^{\\prime}$:\n",
    "$$\n",
    "x^{\\prime}\n",
    "= \\begin{bmatrix} \\frac{11 - 2 \\varepsilon}{3} \\\\ -2 \\\\ \\frac{2\\varepsilon - 2}{3} \\end{bmatrix}\n",
    "\\approx \\begin{bmatrix} \\frac{11}{3} \\\\ -2 \\\\ -\\frac{2}{3} \\end{bmatrix}\n",
    "$$\n",
    "\n",
    "Clearly $x$ and $x^{\\prime}$ are significantly different even when $L^{\\prime}$ and $U^{\\prime}$ are close to $L$ and $U$"
   ]
  },
  {
   "cell_type": "markdown",
   "id": "a2ea38a5-3d51-4909-a9ad-bfa67a0c747b",
   "metadata": {
    "editable": true,
    "slideshow": {
     "slide_type": "slide"
    },
    "tags": []
   },
   "source": [
    "## Problem 2: Not all matrices have an LU factorisation"
   ]
  },
  {
   "cell_type": "markdown",
   "id": "df4587fd-43ee-4c77-950d-1db3ee5803bf",
   "metadata": {
    "editable": true,
    "slideshow": {
     "slide_type": "subslide"
    },
    "tags": []
   },
   "source": [
    "Consider the matrix:\n",
    "\n",
    "$$ A = \\begin{bmatrix} 1 & 1 & 1 \\\\ 2 & 2 & 5 \\\\ 4 & 6 & 8 \\\\ \\end{bmatrix} $$\n",
    "\n",
    "Then:\n",
    "\n",
    "$$ \n",
    "E_1 A \n",
    "= \\begin{bmatrix} 1 & 0 & 0 \\\\ -2 & 1 & 0 \\\\ -4 & 0 & 1 \\\\ \\end{bmatrix} \\begin{bmatrix} 1 & 1 & 1 \\\\ 2 & 2 & 5 \\\\ 4 & 6 & 8 \\\\ \\end{bmatrix}\n",
    "= \\begin{bmatrix} 1 & 1 & 1 \\\\ 0 & 0 & 3 \\\\ 0 & 2 & 4 \\\\ \\end{bmatrix}\n",
    "$$\n",
    "\n",
    "* The standard algorithm cannot go any further (since we would have to divide by zero)\n",
    "* This implies that $A$ does not have an LU Factorisation"
   ]
  },
  {
   "cell_type": "code",
   "execution_count": 23,
   "id": "26ec5195-60a5-47ee-b4a2-43c3a9c5409f",
   "metadata": {
    "editable": true,
    "slideshow": {
     "slide_type": "subslide"
    },
    "tags": []
   },
   "outputs": [
    {
     "name": "stderr",
     "output_type": "stream",
     "text": [
      "/tmp/ipykernel_29953/2020444748.py:14: RuntimeWarning: divide by zero encountered in divide\n",
      "  factor = U[i+1:, i] / U[i, i]\n",
      "/tmp/ipykernel_29953/2020444748.py:16: RuntimeWarning: invalid value encountered in multiply\n",
      "  U[i+1:] -= factor[:, np.newaxis] * U[i]\n"
     ]
    },
    {
     "data": {
      "text/plain": [
       "(array([[ 1.,  0.,  0.],\n",
       "        [ 2.,  1.,  0.],\n",
       "        [ 4., inf,  1.]]),\n",
       " array([[  1.,   1.,   1.],\n",
       "        [  0.,   0.,   3.],\n",
       "        [ nan,  nan, -inf]]))"
      ]
     },
     "execution_count": 23,
     "metadata": {},
     "output_type": "execute_result"
    }
   ],
   "source": [
    "A = np.array([[1, 1, 1],\n",
    "              [2, 2, 5],\n",
    "              [4, 6, 8]])\n",
    "lu(A)"
   ]
  },
  {
   "cell_type": "markdown",
   "id": "65067e20-157d-49e5-9c44-18993c625ae4",
   "metadata": {
    "editable": true,
    "slideshow": {
     "slide_type": "slide"
    },
    "tags": []
   },
   "source": [
    "## Pivoting"
   ]
  },
  {
   "cell_type": "markdown",
   "id": "55cf44f0-940f-43c3-921b-4394204377d7",
   "metadata": {
    "editable": true,
    "slideshow": {
     "slide_type": "subslide"
    },
    "tags": []
   },
   "source": [
    "* Since the order of our equations does not matter we can swap rows\n",
    "* We do this using a [permutation matrix](https://mathworld.wolfram.com/PermutationMatrix.html), $P_i$\n",
    "* Each permutation matrix allows us to swap different rows"
   ]
  },
  {
   "cell_type": "markdown",
   "id": "becaeea2-c8c6-44b7-a1da-25fb7a4f2f9b",
   "metadata": {
    "editable": true,
    "slideshow": {
     "slide_type": "subslide"
    },
    "tags": []
   },
   "source": [
    "* Let's look at column 1 of $A$\n",
    "* We can see the number of largest magnitude is 4\n",
    "* Let's swap rows 1 and 3\n",
    "\n",
    "$$ P_1 A\n",
    "= \\begin{bmatrix} 0 & 0 & 1 \\\\ 0 & 1 & 0 \\\\ 1 & 0 & 0 \\\\ \\end{bmatrix} \\begin{bmatrix} 1 & 1 & 1 \\\\ 2 & 2 & 5 \\\\ 4 & 6 & 8 \\\\ \\end{bmatrix} \n",
    "= \\begin{bmatrix} 4 & 6 & 8 \\\\ 2 & 2 & 5 \\\\ 1 & 1 & 1 \\\\ \\end{bmatrix} \n",
    "$$"
   ]
  },
  {
   "cell_type": "markdown",
   "id": "36c6564e-2407-484c-854f-7b1b84b4c127",
   "metadata": {
    "editable": true,
    "slideshow": {
     "slide_type": "subslide"
    },
    "tags": []
   },
   "source": [
    "* We can now perform the first step of the algorithm\n",
    "\n",
    "$$ \n",
    "E_1 P_1 A\n",
    "= \\begin{bmatrix} 1 & 0 & 0 \\\\ -\\frac{1}{2} & 1 & 0 \\\\ -\\frac{1}{4} & 0 & 1 \\\\ \\end{bmatrix} \\begin{bmatrix} 4 & 6 & 8 \\\\ 2 & 2 & 5 \\\\ 1 & 1 & 1 \\\\ \\end{bmatrix}\n",
    "= \\begin{bmatrix} 4 & 6 & 8 \\\\ 0 & -1 & 1 \\\\ 0 & -\\frac{1}{2} & -1 \\\\ \\end{bmatrix}\n",
    "$$\n",
    "\n",
    "* We can now continue with our algorithm, pivoting as required"
   ]
  },
  {
   "cell_type": "markdown",
   "id": "ccdd8f02-7111-422a-b05d-6c3e960a2d63",
   "metadata": {
    "editable": true,
    "slideshow": {
     "slide_type": "subslide"
    },
    "tags": []
   },
   "source": [
    "* In general, back instability can be avoided by swapping rows before applying $E_k$ i.e. we perform:\n",
    "\n",
    "$$\n",
    "E_{n-1}P_{n-1} \\ldots E_2P_2E_1P_1A = U\n",
    "$$\n",
    "\n",
    "* With some rejiggling, this can be transformed to show that\n",
    "\n",
    "$$ PA = LU $$\n",
    "\n",
    "* i.e. we have some permutation matrix $P$ that, when multiplied with $A$, gives us the LU factorisation"
   ]
  },
  {
   "cell_type": "markdown",
   "id": "5baeba30-6784-4f0a-9934-6a000cd43286",
   "metadata": {
    "editable": true,
    "slideshow": {
     "slide_type": "slide"
    },
    "tags": []
   },
   "source": [
    "# Can we do better?"
   ]
  },
  {
   "cell_type": "markdown",
   "id": "303fcc27-4dec-437c-85bb-8767672da343",
   "metadata": {
    "editable": true,
    "slideshow": {
     "slide_type": "fragment"
    },
    "tags": []
   },
   "source": [
    "* LU Factorisation is good for dense, small systems\n",
    "* However, in reality many problems are  sparse, large or have special structure\n",
    "* [SciPy](https://scipy.org/) contains solvers for sparse systems or systems with special structure"
   ]
  },
  {
   "cell_type": "markdown",
   "id": "f22d3682-6ede-4009-bbd9-8285254fb26a",
   "metadata": {
    "editable": true,
    "slideshow": {
     "slide_type": "subslide"
    },
    "tags": []
   },
   "source": [
    "## scipy.linalg"
   ]
  },
  {
   "cell_type": "markdown",
   "id": "01013aef-c697-4575-a28f-ddfe164f9a19",
   "metadata": {
    "editable": true,
    "slideshow": {
     "slide_type": "fragment"
    },
    "tags": []
   },
   "source": [
    "* Includes paths for dense matrices of special structure\n",
    "    * ``solve``: symmetric, hermitian and positive definite matrices\n",
    "    * ``solve_banded``\n",
    "    * ``solveh_banded``\n",
    "    * ``solve_circulant``\n",
    "    * ``solve_triangular``\n",
    "    * ``solve_toeplitz``"
   ]
  },
  {
   "cell_type": "markdown",
   "id": "dae1433c-2fba-40eb-876b-3782b65026ba",
   "metadata": {
    "editable": true,
    "slideshow": {
     "slide_type": "subslide"
    },
    "tags": []
   },
   "source": [
    "## scipy.sparse.linalg.spsolve"
   ]
  },
  {
   "cell_type": "markdown",
   "id": "5c648692-4c4f-4d34-bdec-de844d65d2f8",
   "metadata": {
    "editable": true,
    "slideshow": {
     "slide_type": "fragment"
    },
    "tags": []
   },
   "source": [
    "* Takes a ndarray or sparse system and solves it\n",
    "* Will convert ndarrays to a CSC or CSR array\n",
    "* This will add overhead\n",
    "* Recommend to use sparse arrays when working with sparse systems"
   ]
  },
  {
   "cell_type": "markdown",
   "id": "7ba8bc5e-7c38-4041-b143-628ba047d9a7",
   "metadata": {
    "editable": true,
    "slideshow": {
     "slide_type": "subslide"
    },
    "tags": []
   },
   "source": [
    "### CSR Arrays\n",
    "\n",
    "* Compressed Sparse Row Array\n",
    "* Stores the data in three 1-D arrays:\n",
    "    * __V__ stores the values as rows contiguously\n",
    "    * __COL_INDEX__ stores the column index\n",
    "    * __ROW_INDEX__ stores the row index\n",
    "* This format lets us access _rows_ very efficiently"
   ]
  },
  {
   "cell_type": "code",
   "execution_count": 24,
   "id": "6d93c6ca-1b91-4700-af80-e435caf409b8",
   "metadata": {
    "editable": true,
    "slideshow": {
     "slide_type": "subslide"
    },
    "tags": []
   },
   "outputs": [],
   "source": [
    "def create_sparse_system(n, p, rng):\n",
    "    # Create a nxn sparse system by zeroing p% of rows\n",
    "    A = rng.random((n, n))\n",
    "    b = rng.random(n)\n",
    "    row_ind = rng.choice(np.arange(n), int(n * p / 100), replace=False)\n",
    "    A[row_ind, :] = 0\n",
    "    np.fill_diagonal(A, 1)  # Make sure a valid solution exists\n",
    "    return A, sp.sparse.csr_array(A), b"
   ]
  },
  {
   "cell_type": "code",
   "execution_count": 25,
   "id": "cfac0c77-831d-4b03-ad06-60a773d931b8",
   "metadata": {
    "editable": true,
    "slideshow": {
     "slide_type": "subslide"
    },
    "tags": []
   },
   "outputs": [],
   "source": [
    "D, S, b = create_sparse_system(10_000, 99, rng)"
   ]
  },
  {
   "cell_type": "code",
   "execution_count": 26,
   "id": "39de0d26-f67e-481f-a3c3-48d37031350f",
   "metadata": {
    "editable": true,
    "scrolled": true,
    "slideshow": {
     "slide_type": "fragment"
    },
    "tags": []
   },
   "outputs": [
    {
     "name": "stdout",
     "output_type": "stream",
     "text": [
      "2 s ± 124 ms per loop (mean ± std. dev. of 7 runs, 1 loop each)\n"
     ]
    }
   ],
   "source": [
    "%timeit np.linalg.solve(D, b)"
   ]
  },
  {
   "cell_type": "code",
   "execution_count": 27,
   "id": "2abd2912-0ffd-4216-a939-00cd5506d199",
   "metadata": {
    "editable": true,
    "slideshow": {
     "slide_type": "fragment"
    },
    "tags": []
   },
   "outputs": [
    {
     "name": "stderr",
     "output_type": "stream",
     "text": [
      "<magic-timeit>:1: SparseEfficiencyWarning: spsolve requires A be CSC or CSR matrix format\n"
     ]
    },
    {
     "name": "stdout",
     "output_type": "stream",
     "text": [
      "385 ms ± 2.99 ms per loop (mean ± std. dev. of 7 runs, 1 loop each)\n"
     ]
    }
   ],
   "source": [
    "%timeit sp.sparse.linalg.spsolve(D, b)"
   ]
  },
  {
   "cell_type": "code",
   "execution_count": 28,
   "id": "9cd9baed-0636-4787-b33d-86f80eca933b",
   "metadata": {
    "editable": true,
    "scrolled": true,
    "slideshow": {
     "slide_type": "fragment"
    },
    "tags": []
   },
   "outputs": [
    {
     "name": "stdout",
     "output_type": "stream",
     "text": [
      "18.2 ms ± 163 µs per loop (mean ± std. dev. of 7 runs, 100 loops each)\n"
     ]
    }
   ],
   "source": [
    "%timeit sp.sparse.linalg.spsolve(S, b)"
   ]
  },
  {
   "cell_type": "markdown",
   "id": "74121c75-098b-4571-8a81-571d6b1e57ca",
   "metadata": {
    "editable": true,
    "scrolled": true,
    "slideshow": {
     "slide_type": "subslide"
    },
    "tags": []
   },
   "source": [
    "### Sparse arrays are not a panacea"
   ]
  },
  {
   "cell_type": "code",
   "execution_count": 29,
   "id": "cf569ce8-8045-4949-979b-ba7be34f91dd",
   "metadata": {
    "editable": true,
    "scrolled": true,
    "slideshow": {
     "slide_type": "skip"
    },
    "tags": []
   },
   "outputs": [],
   "source": [
    "if RUN_BENCHMARKS:\n",
    "    N = 1_000\n",
    "    out = perfplot.bench(\n",
    "        setup=lambda p: create_sparse_system(N, p, rng),\n",
    "        kernels=[\n",
    "            lambda A, S, b: np.linalg.solve(A, b),\n",
    "            lambda A, S, b: sp.sparse.linalg.spsolve(S, b),\n",
    "        ],\n",
    "        labels=[\"np.linalg.solve\", \"sp.sparse.linalg.spsolve\"],\n",
    "        n_range=range(100),\n",
    "        xlabel=\"Sparsity (percent of rows zeroed)\",\n",
    "    )\n",
    "    out.title = f\"Runtime required to find the solution of a {N} x {N} linear system\"\n",
    "    out.show()\n",
    "    out.save(\"images/sparsity.png\", transparent=True, bbox_inches=\"tight\")"
   ]
  },
  {
   "cell_type": "markdown",
   "id": "b33a552a-f163-4dbc-b5b9-43d8432fc878",
   "metadata": {
    "editable": true,
    "scrolled": true,
    "slideshow": {
     "slide_type": "fragment"
    },
    "tags": []
   },
   "source": [
    "![Runtime of solve vs spsolve as sparsity increases](images/sparsity.png)"
   ]
  },
  {
   "cell_type": "markdown",
   "id": "9014c0bd-dc15-4a68-9e7f-15761da0e0c9",
   "metadata": {
    "editable": true,
    "slideshow": {
     "slide_type": "slide"
    },
    "tags": []
   },
   "source": [
    "# Questions / Comments?"
   ]
  }
 ],
 "metadata": {
  "kernelspec": {
   "display_name": "Python 3 (ipykernel)",
   "language": "python",
   "name": "python3"
  },
  "language_info": {
   "codemirror_mode": {
    "name": "ipython",
    "version": 3
   },
   "file_extension": ".py",
   "mimetype": "text/x-python",
   "name": "python",
   "nbconvert_exporter": "python",
   "pygments_lexer": "ipython3",
   "version": "3.12.2"
  },
  "toc": {
   "base_numbering": 0
  }
 },
 "nbformat": 4,
 "nbformat_minor": 5
}
